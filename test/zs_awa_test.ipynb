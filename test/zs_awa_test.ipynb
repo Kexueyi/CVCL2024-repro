{
 "cells": [
  {
   "cell_type": "code",
   "execution_count": null,
   "metadata": {},
   "outputs": [],
   "source": [
    "import os\n",
    "#virtually move to parent directory\n",
    "os.chdir(\"..\")"
   ]
  },
  {
   "cell_type": "code",
   "execution_count": 6,
   "metadata": {},
   "outputs": [
    {
     "name": "stdout",
     "output_type": "stream",
     "text": [
      "['<pad>', '<unk>', '<sos>', '<eos>', '.', ',', 'you', '?', 'the', 'yeah', \"'s\", 'a', 'to', 'it', 'and', 'that', 'we', 'i', 'there', 'is', 'do', 'want', 'are', '\"', 'go', 'can', '!', 'on', 'okay', 'in', 'your', 'have', \"n't\", 'this', 'put', 'oh', 'one', 'here', 'all', 'of', 'what', 'now', 'see', 'some', 'get', 'let', 'right', 'with', 'ok', \"'re\", '...', 'me', 'going', 'know', 'look', 'like', 'at', 'no', 'where', 'he', 'not', 'alright', 'they', 'for', 'out', 'up', 'so', 'think', 'just', 'if', 'but', 'ball', 'sam', 'little', 'more', '-', 'kitty', 'try', 'good', 's', 'very', 'then', 'done', 'be', 'or', 'my', 'them', 'baby', 'did', \"'m\", \"'ll\", 'too', 'again', 'back', 'will', 'down', 'how', 'off', 'na', 'play', 'gon', 'should', 'come', 'read', 'big', 'book', 'was', 'bit', 'got', 'wanna', 'turn', 'need', 'other', 'an', 'about', 'does', 'over', 'those', 'huh', 'well', 'two', 'yea', 'make', 'train', 'time', '..', 'another', 'bye', 'water', 'bear', 'its', 'these', 'take', 'ready', 'which', 'lots', 'uh', 'hi', 'when', 'remember', 'walk', 'still', 'why', 'give', 'has', 'goes', 'am', 'car', 'lot', 'banana', 'nt', 'outside', '--', 'gone', 'way', 'poo', 'yummy', 'yeahh', 'truck', 'eat', 'pretty', 'away', 'shoes', 'things', '_', 'say', 'sit', 'because', 'hard', 'around', 'might', 'our', 'bunny', 'doggy', '…', 'bread', 'ca', 'else', 'lets', 'red', '’s', 'lovely', 'socks', 'guy', 'happy', 'eating', 'looking', 'nice', 'who', 'something', 'bin', 'cup', 'eggs', 'nappy', 'page', 'mommy', 'sure', 'books', 'job', 'ah', 'blue', 'really', 'today', 'hand', 'find', 'maybe', 'though', 'also', 'first', 'foot', 'his', 'were', 'bottle', 'hold', 'she', 'getting', 'three', 'draw', 'egg', \"'\", 'clap', 'from', 'hot', 're', 'doing', 'had', 'show', 'him', 'shirt', 'green', 'as', 'different', 'help', 'hey', 'better', 'milk', 'boop', 'much', 'could', \"'ve\", 'yes', 'coming', 'actually', 'would', 'yep', 'mouth', 'by', 'hello', 'pants', 'potty', 'went', 'camera', 'n’t', 'hands', 'mm', 'open', 'while', 'yourself', 'four', 'sand', 'pick', 'rub', 'shall', 'says', 'yellow', 'watch', 'heres', 'inside', 'flowers', 'use', '....', 'apple', 'love', 'nope', '–', 'wow', 'almost', 'new', 'push', 'behind', 'bubbles', 'into', 'throw', 'duck', 'puzzle', 'work', 'girl', 'making', 'balloon', 'boy', 'brown', 'cow', \"'d\", 'house', 'lid', 'sorry', 'any', 'close', 'orange', 'sheep', 'thing', 'boo', 'kitties', 'under', 'brush', 'm', 'playing', 'putting', 'wear', 'beach', 'bloop', 'ducks', 'finish', 'balls', 'chicken', 'mmm', 'music', 'thank', 'yay', 'blow', 'cold', 'hmm', 'only', 'trying', 'um', 'yet', 'day', 'purple', 'room', 'ruff', 'flower', 'sad', 'toby', 'wash', 'bring', 'grab', 'hang', 'head', 'tired', 'weird', 'wo', 'browns', 'bucket', 'fish', 'fun', 'home', 'marmite', 'ohh', 'sometimes', 'hash', 'mean', 'probably', 'said', 'feet', 'cause', 'farm', 'her', 'ones', 'reading', 'stand', 'us', 'bounce', 'keep', 'light', 'spoon', 'together', 'wait', 'before', 'jam', 'babies', 'chair', 'clean', 'press', 'change', 'next', 'stick', 'teeth', 'through', 'birds', 'fell', 'having', 'horse', 'jacket', 'juice', 'crib', 'paper', 'toys', 'yup', 'already', 'clothes', 'cut', 'even', 'fire', 'looks', 'many', 'wrong', 'ya', 'bad', 'bag', 'birdy', 'both', 'feel', 'yeahhh', 'blocks', 'box', 'drink', 'tree', 'trees', 'backpack', 'cheep', 'color', 'hippo', 'hungry', 'kind', 'left', 'made', 'white', 'bowl', 'dark', 'everything', 'far', 'same', 'saying', 'stuff', 'top', 'been', 'birdies', 'blo', 'door', 'enough', 'picture', 'walking', 'five', 'hear', 'leave', 'mmkay', 'ahh', 'bed', 'dump', 'fine', 'lift', 'noise', 'pee', 'squish', 'food', 'long', 'makes', 'op', 'people', 'sitting', 'black', 'bop', 'cream', 'dummy', 'fall', 'nose', 'ooh', 'toy', 'yum', 'colors', 'lap', 'last', 'move', 'nom', 'saw', 'after', 'carry', 'cars', 'doggies', 'few', 'fluffy', 'grapes', 'grass', 'pat', 'sock', 'than', 'biscuit', 'comes', 'end', 'funny', 'game', 'pictures', 'soon', 'start', 'talking', 'tell', 'toes', 'bird', 'face', 'plate', 'shoe', 'stairs', 'ta', 'wet', 'anymore', 'boat', 'called', 'strawberry', 'blanket', 'button', 'careful', 'feed', 'giraffe', 'hole', 'o', 'six', 'words', 'chupey', 'dog', 'eight', 'fiona', 'full', 'thought', 'touch', 'being', 'dinosaur', 'drawing', 'dropped', 'dry', 'lamb', 'old', 'pooing', 'rice', 'standing', 'trucks', 'woah', 'aunt', 'bottom', 'climb', 'drinking', 'either', 'fast', 'favorite', 'hm', 'mouse', 'papa', 'scared', 'silly', 'wants', 'window', 'belly', 'chick', 'cows', 'fruit', 'gentle', 'library', 'logs', 'please', 'run', 'tractor', 'anything', 'nap', 'nothing', 'piece', 'pull', 'quack', 'sleep', 'animals', 'breakfast', 'breaky', 'cement', 'great', 'hat', 'idea', 'later', 'marker', 'mirror', 'nine', 'oil', 'once', 'painting', 'pig', 'sandpit', 'shake', 'side', 'soft', 'sort', 'store', 'sun', 'sushi', 'vroom', 'forgot', 'hair', 'high', 'interesting', 'lion', 'playground', 'roar', 'somewhere', 'came', 'cluck', 'eyes', 'happens', 'hashbrowns', 'pen', 'running', 'second', 'song', 'stay', 'bark', 'bike', 'boom', 'bout', 'cat', 'coffee', 'cups', 'dolly', 'floor', 'frosting', 'hurt', 'leaves', 'line', 'minutes', 'money', 'mwah', 'never', 'night', 'ohhh', 'part', 'round', 'woof', 'basket', 'boing', 'cook', 'drop', 'drum', 'guess', 'ha', 'instead', 'number', 'pebe', 'point', 'pour', 'rocks', 'small', 'squishy', 'took', 'wagon', 'without', 'boxes', 'butterfly', 'computer', 'cuz', 'doh', 'gets', 'ma', 'oops', 'park', 'pb', 'puree', 'quite', 'snot', 'wonder', 'works', 'always', 'bears', 'birdie', 'bite', 'buy', 'check', 'dinner', 'dirt', 'dirty', 'engine', 'garden', 'missed', 'nappie', 'pink', 'place', 'seven', 'shorts', 'sleepy', 'smiling', 'sound', 'star', 'toast', 'ahead', 'bum', 'cake', 'dance', 'duh', 'each', 'everyone', 'everywhere', 'exciting', 'eye', 'friend', 'guitar', 'heavy', 'hmmm', 'hug', 'leaf', 'leg', 'letters', 'paint', 'pajamas', 'problem', 'slide', 't', 'table', 'tiger', 'word', 'working', 'ahhh', 'bananas', 'buttons', 'choo', 'clouds', 'cuddle', 'giving', 'honey', 'ill', 'jumping', 'kinda', 'meow', 'mine', 'morning', 'nappies', 'past', 'sleeping', 'tail', 'teddy', 'tower', 'tweet', 'until', 'woo', 'yours', 'able', 'alex', 'arm', 'dancing', 'deck', 'dummies', 'formula', 'fridge', 'jeans', 'jerry', 'kangaroo', 'koala', 'likes', 'living', 'nonny', 'oop', 'peekaboo', 'pieces', 'real', 'sky', 'uhh', 'used', 'wanted', 'zebra', 'bee', 'between', 'blah', 'blank', 'bok', 'break', 'doggie', 'driving', 'easier', 'front', 'garbage', 'grape', 'half', 'means', 'mhm', 'named', 'own', 'scary', 'station', 'umbrella', 'yesterday', ':', 'ba', 'bath', 'block', 'blop', 'blowing', 'blu', 'boring', 'bunch', 'care', 'closer', 'count', 'cross', 'doctor', 'donkey', 'drain', 'dye', 'ears', 'emily', 'fork', 'friends', 'goodness', 'grandma', 'ground', 'harder', 'hit', 'magazine', 'may', 'monkey', 'numbers', 'pan', 'peek', 'pile', 'puzzles', 'smiley', 'splash', 'sunscreen', 'ten', 'washing', 'ate', 'aw', 'bar', 'blur', 'broke', 'cakes', 'da', 'empty', 'emu', 'fit', 'frog', 'holding', 'knees', 'laundry', 'lunch', 'match', 'phone', 'rattle', 'salt', 'sing', 'someone', 'strawberries', 'stuck', 'tag', 'taking', 'their', 'toilet', 'tracks', 'whole', 'wood', 'worry', 'yolk', 'apples', 'asleep', 'bah', 'best', 'blup', 'broken', 'broom', 'klop', 'knife', 'lay', 'man', 'markers', 'mix', 'owie', 'stir', 'uncle', 'upside', 'wave', 'weeds', 'whoops', \"'cause\", '......', 'bells', 'busy', 'call', 'cockatoo', 'coins', 'ducky', 'easy', 'ever', 'flew', 'johnny', 'medicine', 'mhmm', 'mood', 'moving', 'needs', 'noisy', 'num', 'otherwise', 'pa', 'pack', 'piano', 'pillows', 'poor', 'rest', 'ribbon', 'road', 'robot', 'salmon', 'seen', 'shirts', 'stop', 'sweetie', 'tobby', 'whoo', 'wind', 'write', 'air', 'bagel', 'balloons', 'bathroom', 'bib', 'bo', 'chocolate', 'days', 'eh', 'figure', 'fix', 'haha', 'hill', 'jump', 'kay', 'kiss', 'legs', 'live', 'loud', 'mkay', 'name', 'ohp', 'plants', 'q', 'rawr', 'reach', 'recipe', 'ride', 'scoop', 'shovel', 'siren', 'sounds', 'swimming', 'typing', 'wiggle', 'wipe', 'wombat', '.....', 'across', 'aww', 'beautiful', 'bicycle', 'bus', 'butterflies', 'candle', 'carousel', 'climbing', 'cough', 'crazy', 'cuddly', 'falling', 'found', 'ladybug', 'lids', 'listen', 'mmmm', 'mom', 'perfect', 'pip', 'seat', 'seaweed', 'shh', 'silver', 'smoke', 'sticky', 'swish', 'tiny', 'toothbrush', 'totally', 'turned', 'war', 'wearing', 'wee', '2', '3', 'anyway', 'anyways', 'apart', 'arms', 'bees', 'birthday', 'bla', 'bouncing', 'bouncy', 'bricks', 'brushing', 'bunnies', 'carrying', 'closed', 'cool', 'cover', 'crawl', 'd', 'dan', 'e', 'every', 'feeling', 'furry', 'gloves', 'grandpa', 'gross', 'hay', 'heart', 'key', 'kids', 'kissing', 'kitchen', 'letter', 'lines', 'missing', 'mk', 'n', 'naked', 'ooo', 'pear', 'penguin', 'picked', 'possum', 'rocket', 'steps', 'such', 'talk', 'threw', 'tomato', 'underwear', 'waving', 'whoa', 'along', 'bench', 'brekky', 'building', 'circle', 'corn', 'daba', 'decide', 'drive', 'driveway', 'drums', 'echidna', 'excited', 'gladly', 'goo', 'hen', 'hide', 'huge', 'least', 'lights', 'mailbox', 'natalie', 'photo', 'pop', 'presents', 'rah', 'sausage', 'shiny', 'slinky', 'spell', 'swim', 'taste', 'tongue', 'trains', 'turning', 'watching', 'whoop', '8', 'bang', 'bernard', 'boots', 'brought', 'butter', 'carrots', 'cheese', 'choose', 'clock', 'coat', 'crap', 'crawling', 'cute', 'dig', 'ear', 'enjoying', 'feels', 'fingers', 'flop', 'forth', 'garage', 'glasses', 'hats', 'helping', 'hhh', 'hiding', 'horses', 'interested', 'j', 'mind', 'natasha', 'none', 'peeby', 'pets', 'pillow', 'plant', 'pot', 'raining', 'rake', 'sheets', 'sick', 'since', 'sink', 'snakes', 'special', 'street', 'suppose', 'sweet', 'tanker', 'the--', 'thinking', 'type', 'umm', 'warm', 'world', 'y', 'you-', \"'bout\", '1', 'aeroplane', 'aha', 'andre', 'banging', 'ben', 'bet', 'bigger', 'biscuits', 'bites', 'bom', 'bounced', 'bu', 'case', 'ch', 'chase', 'choices', 'closes', 'coke', 'cooking', 'coughing', 'cranky', 'dear', 'dogs', 'drops', 'early', 'fur', 'gave', 'giraffes', 'god', 'gosh', 'hahaha', 'hairbrush', 'hoo', 'hope', 'it--', 'keys', 'la', 'late', 'laura', 'lauren', 'liked', 'll', 'mee', 'middle', 'mortgage', 'most', 'muh', 'nana', 'oatmeal', 'pages', 'pens', 'person', 'piglet', 'pills', 'pointing', 'poke', 'pooed', 'pulling', 'question', 'quiet', 'ring', 'rock', 'roll', 'shells', 'shoulders', 'shut', 'silky', 'sirens', 'skype', 'snack', 'sparkly', 'starting', 'stretch', 'supposed', 'throwing', 'track', 'trip', 'turtle', 'twenty', 'udder', 'underneath', 'upstairs', 'velvety', 'visit', 'w', 'wake', 'weee', 'week', 'wiggly', 'yeeeah', \"you're\", '/', 'ago', 'ahhhh', 'airplane', 'alien', 'awesome', 'baa', 'basically', 'biccie', 'bits', 'blood', 'bubbly', 'carrot', 'changed', 'cleaned', 'cookies', 'course', 'cracker', 'cried', 'cub', 'delivery', 'ducklings', 'elephant', 'fact', 'fight', 'finished', 'flour', 'fly', 'flying', 'g', 'goat', 'grey', 'guinea', 'h', 'happen', 'happened', 'hitting', 'houses', 'hurts', 'julie', 'jumper', 'kleenex', 'lady', 'lean', 'leaping', 'learn', 'less', 'lighter', 'logging', 'lovey', 'magpie', 'marmithe', 'meant', 'meet', 'mice', 'mister', 'mmk', 'moo', 'moved', 'must', 'neat', 'normal', 'oink', 'peanut', 'photos', 'pierre', 'plates', 'played', 'plop', 'row', 'sell', 'snail', 'sofa', 'spatula', 'splish', 'splosh', 'square', 'stephanie', 'sticking', 'story', 'stroller', 'th', 'tickle', 'towel', 'town', 'trash', 'twinkle', 've', 'wah', 'waking', 'weed', 'whee', 'wheel', ';', 'against', 'alone', 'ant', 'aston', 'b', 'barn', 'bored', 'bothering', 'bought', 'breky', 'cardigan', 'carpet', 'cheek', 'cheeks', 'chickens', 'chicks', 'chin', 'choke', 'cloud', 'cord', 'covered', 'curious', 'curtain', 'dave', 'daycare', 'digger', 'dots', 'drawer', 'driver', 'duckling', 'eaten', 'er', 'especially', 'except', 'feathers', 'forever', 'georgia', 'goodbye', 'goose', 'grapefruit', 'himself', 'ho', 'horrible', 'hose', 'hush', 'interest', 'irritating', 'is-', 'james', 'john', 'knee', 'knew', 'life', 'listening', 'longer', 'lorry', 'lory', 'lost', 'machine', 'mad', 'matthew', 'messy', 'minute', 'miss', 'mmhmm', 'mmmmm', 'mwm', 'near', 'nearly', 'nectarine', 'noises', 'nooo', 'notice', 'onto', 'oo', 'oooh', 'opening', 'order', 'ought', 'pasta', 'peace', 'peas', 'pigs', 'piles', 'plum', 'pu', 'puppy', 'railing', 'rent', 'rocking', 'seeing', 'seem', 'set', 'sign', 'spider', 'spill', 'starts', 'stool', 'takes', 'tall', 'thumb', 'tim', 'times', 'to-', 'tomorrow', 'tough', 'tracy', 'triangle', 'tried', 'ugh', 'uhp', 'unless', 'using', 'vinegar', 'warmer', 'weeeee', 'whah', 'whatever', 'windy', 'woops', 'x', 'yayyy', 'ye', 'year', 'years', 'you--', '4', 'agree', 'baaaa', 'beat', 'bend', 'bi', 'biccies', 'bins', 'blom', 'blueberries', 'body', 'brekkie', 'bridge', 'bubble', 'buckets', 'build', 'bump', 'bup', 'charlie', 'cherries', 'cherry', 'chilly', 'chubie', 'city', 'closing', 'cookie', 'cousins', 'crocodile', 'cry', 'crying', 'cupcake', 'deal', 'dessert', 'diddle', 'ding', 'dust', 'email', 'excuse', 'faces', 'fence', 'film', 'forget', 'frank', 'further', 'gibbon', 'glop', 'grow', 'grumpy', 'guana', 'gummies', 'guys', 'hate', 'heat', 'higher', 'hopefully', 'hum', 'hundred', 'hurry', 'i.', 'it-', 'keeps', 'kite', 'kookaburra', 'lake', 'lalala', 'leaving', 'lense', \"let's\", 'log', 'looked', 'lose', 'lower', 'mama', 'mh', 'moon', 'nannie', 'neighbor', 'nest', 'noo', 'opens', 'ours', 'ourselves', 'oven', 'owlets', 'pair', 'pantry', 'pencils', 'pet', 'pins', 'playful', 'pocket', 'polar', 'posy', 'power', 'pressing', 'pretend', 'price', 'puppet', 'rabbit', 'rain', 'rate', 'remeber', 'rooster', 'rope', 'rubbing', 'sandy', 'school', 'scissors', 'sea', 'sense', 'short', 'spend', 'spotty', 'stars', 'sticks', 'stopped', 'strong', 'suncream', 'sunrise', 'tags', 'tastes', 'toe', 'trapped', 'tub', 'turkey', 'waiting', 'wheat', 'wheels', 'whop', 'worried', 'xylophone', 'yaa', 'yayyyy', 'yeaaah', 'yo', 'yogurt', '’re', 'afraid', 'amy', 'anyone', 'art', 'ask', 'baba', 'bathtub', 'beh', 'bell', 'biscut', 'bisquit', 'blerp', 'boats', 'bright', 'buh', 'bush', 'butt', 'bwa', \"c'm\", 'carefully', 'chemist', 'closet', 'clothespin', 'clown', 'comic', 'counter', 'crayons', 'crocodiles', 'crunchy', 'cutting', 'dangerous', 'deet', 'delete', \"don't\", 'drew', 'drumming', 'dryer', 'dumping', 'exactly', 'extra', 'feeding', 'fifty', 'finally', 'finger', 'fixed', 'flat', 'fox', 'free', 'freight', 'friendly', 'glass', 'go-', 'gowee', 'gray', 'greens', 'hah', 'hall', 'hashbrown', 'heard', 'hearts', 'horn', 'hour', 'iguana', 'impressive', \"it's\", 'itch', 'itchy', 'itself', 'keeping', 'kiddo', 'kit', 'kitten', 'lalalalala', 'lips', 'lives', 'lorey', 'louis', 'low', \"m'kay\", 'magpies', 'mail', 'mak', 'mango', 'mcdonald', 'merp', 'microwave', 'monitor', 'mosquitoes', 'mr', 'muah', 'myself', 'nah', 'normally', 'not--', 'notebook', 'noticed', 'numbing', 'of--', 'others', 'ow', 'parts', 'pass', 'path', 'patient', 'penguins', 'pepper', 'pineapple', 'pinecone', 'plastic', 'plug', 'plums', 'port', 'proud', 'pulled', 'purée', 'racing', 'rainbow', 'raspberry', 'recently', 'remembered', 'rule', 'save', 'scales', 'schedule', 'scoops', 'scrub', 'seems', 'semi', 'showing', 'sippy', 'skateboard', 'smells', 'snap', 'sneeze', 'songs', 'spinning', 'spoons', 'stair', 'stamp', 'step', 'steve', 'straw', 'stripes', 'summer', 'swing', 'tap', 'tea', 'technically', 'that--', 'till', 'to--', 'tube', 'turner', 'tv', 'twist', 'u', 'uhhh', 'uncomfortable', 'understand', 'van', 'vrooom', 'walker', 'wallet', 'watermelon', 'what-', 'woop', 'yeaah', 'yuck', 'zero', 'zip', 'a-', 'accidentally', 'add', 'ahhhhhhhh', 'airport', 'although', 'ambulance', 'and-', 'antlers', 'ar', 'attached', 'australia', 'awake', 'awhile', 'backwards', 'bacon', 'badly', 'bars', 'bent', 'bikes', 'bingley', 'bisquits', 'bling', 'blows', 'blub', 'blurp', 'bottles', 'boys', 'brr', 'brrrr', 'bug', 'burp', 'buses', 'cannon', 'catch', 'caterpillar', 'cave', 'chain', 'chik', 'cho', 'choop', 'chord', 'chug', 'circles', 'clapping', 'cleaning', 'cloth', 'clunk', 'coin', 'comfortable', 'con', 'coo', 'cube', 'cucumber', 'dami', 'darcy', 'diamond', 'difficult', 'don', 'dressed', 'drill', 'dun', 'eagle', 'edge', 'ee', 'elephants', 'ello', 'emus', 'fair', 'ferris', 'fireman', 'floated', 'fold', 'fragile', 'frustrating', 'gate', 'general', 'gently', 'gonna', 'goods', 'handle', 'happening', 'heh', 'hiccup', 'hotter', 'huhh', \"i'm\", 'ice', 'indeed', 'ipad', 'jackets', 'jackie', 'jane', 'jeez', 'kick', 'klo', 'knows', 'land', 'large', 'laughing', 'lemon', 'liking', 'litter', 'lived', 'main', 'mammy', 'matches', 'meantime', 'mess', 'mmhm', 'mole', 'moment', 'moop', 'moose', 'mostly', 'moth', 'movie', 'mud', 'mushrooms', 'names', 'nasty', 'neck', 'necklace', 'nectorine', 'neither', 'nn', 'nobody', 'nu', 'ohhhh', 'okay-', 'older', 'om', 'one--', 'oohh', 'oranges', 'paintings', 'peeing', 'pickaboo', 'platapus', 'poly', 'poop', 'quick', 'rack', 'rainy', 'ran', 'raspberries', 'rather', 'reason', 'recognize', 'ree', 'rid', 'righ', 'rinse', 'rolly', 'roly', 'roof', 'rules', 'salad', 'sandwich', 'sarah', 'scare', 'schnorp', 'selling', 'several', 'shaking', 'sharp', 'sheepdogs', 'shower', 'singing', 'site', 'slept', 'slippery', 'smart', 'smell', 'smelly', 'snake', 'soap', 'sometime', 'sour', 'sparkling', 'spit', 'squirm', 'stepping', 'stomp', 'string', 'stroke', 'stumble', 'sugar', 'suprised', 'swam', 'swinging', 'tables', 'tallest', 'that-', \"they're\", 'toasts', 'toddle', 'tomatoes', 'toothpaste', 'tractors', 'treat', 'tummy', 'twelve', 'twisting', 'unfortunately', 'usually', 'waddle', 'walked', 'washed', 'watering', \"we're\", 'weekend', 'whale', 'willy', 'wool', 'wooo', 'writing', \"y'know\", 'yaaaaay', 'yaay', 'yah', 'yeh', '(', '---', '10', '30', '5', 'a--', 'aah', 'above', 'achoo', 'acting', 'actual', 'afford', 'alphabet', 'amazing', 'ants', 'anywhere', 'appetite', 'asked', 'australian', 'awful', 'baaa', 'baboon', 'bahh', 'bakery', 'barbie', 'barrier', 'beans', 'beind', 'bending', 'biiig', 'bitty', 'bleh', 'blew', 'blobi', 'blobloblob', 'bloo', 'boil', 'bot', 'bothered', 'bouncey', 'brah', 'branches', 'breakie', 'brrr', 'bru', 'brunch', 'buddy', 'buhbuhbap', 'buildings', 'built', 'buoy', 'burner', 'burnt', 'burrt', 'but-', 'bzzz', 'can-', 'candles', 'castanet', 'cats', 'cauliflower', 'cd', 'certain', 'chairs', 'chalk', 'challenge', 'chasing', 'checking', 'cheetahs', 'chew', 'chopey', 'christmas', 'clear', 'clubhouse', 'colons', 'comfy', 'confused', 'confusing', 'container', 'cooked', 'cooling', 'couch', 'couple', 'cradle', 'crowns', 'cuddles', \"d'you\", 'daddy', 'danny', 'desk', 'digging', 'direction', 'distracted', 'do-', 'dock', 'doctors', 'dropping', 'drying', 'duhh', 'dung', 'during', 'dyes', 'earlier', 'easily', 'easter', 'edible', 'eebee', 'ehhh', 'ehhhh', 'ei', 'einstein', 'elizabeth', 'enjoy', 'erase', 'escaped', 'estate', 'everybody', 'eyebrows', 'f', 'falls', 'fan', 'farther', 'faster', 'fat', 'fault', 'fill', 'finds', 'flags', 'fleece', 'floppy', 'fruits', 'frustrated', 'fully', 'gah', 'geez', 'gi', 'girls', 'glad', 'glenalta', 'goddness', 'got-', 'grabbed', 'haa', 'hasbrowns', 'heading', 'hh', 'hickory', 'hickuping', 'hoi', 'holes', 'honeypot', 'hook', 'hospital', 'huhuh', 'hung', 'hunt', 'i-', 'ignore', 'ignoring', 'impressed', 'in--', 'is--', \"it's--\", 'jack', 'joking', 'just--', 'k', 'kayak', 'kettle', 'kicking', 'kid', 'kittie', 'kittys', 'kiwis', 'lalalala', 'lame', 'laps', 'laughter', 'laying', 'leap', 'letting', 'lettuce', 'level', 'lie', 'like--', 'lilacs', 'little-', 'loan', 'lollipops', 'lotion', 'loved', 'lub', 'magazines', 'mane', 'market', 'meaning', 'melon', 'mer', 'messed', 'mhhm', 'mixer', 'mmmkay', 'mmmmmm', 'mn', 'monster', 'mooh', 'moorhen', 'moot', 'mrrr', 'mum', 'nail', 'ne', 'nectarines', 'nee', 'nicely', 'nipple', 'nuh', 'nursery', 'o.', 'ocean', 'okayy', 'omega', 'one-', 'ope', 'opened', 'or-', 'orangutan', 'pain', 'papers', 'parking', 'particularly', 'passing', 'patting', 'peekabo', 'petrol', 'picking', 'pill', 'pipe', 'pipes', 'pizza', 'places', 'plain', 'plan', 'plane', 'plays', 'ploonk', 'plugs', 'pockets', 'pony', 'pood', 'poos', 'popped', 'possible', 'prejudice', 'present', 'pride', 'pumpkin', 'purse', 'pushing', 'puuush', 'quickly', 'r', 'rash', 'realized', 'recycling', 'reset', 'restaurant', 'riding', 'rings', 'ripping', 'river', 'rod', 'root', 'rose', 'rubik', 'ruin', 'rwar', 's.', 'sams', 'sandals', 'sat', 'screw', 'seconds', 'semicolon', 'serious', 'shhhh', 'similar', 'sip', 'skittles', 'slam', 'sliding', 'slightly', 'slip', 'slow', 'smaller', 'smile', 'smiled', 'smooth', 'snoutch', 'soccer', 'some-', 'someday', 'soo', 'spilled', 'sprawl', 'squeeze', 'squick', 'squirrel', 'squished', 'staying', 'stirring', 'strange', 'students', 'stuffed', 'stupid', 'sucking', 'suncreen', 'sunny', 'suzy', 'sweep', 'switch', 'swoosh', 'telling', 'tend', 'test', \"that's\", \"that's--\", 'thats', 'the-', 'there-', 'they-', 'third', 'threes', 'tickly', 'tied', 'tight', 'titi', 'told', 'tools', 'torture', 'touching', 'towels', 'trampoline', 'trick', 'tricycle', 'trouble', 'uh--', 'ummm', 'video', 'vinager', 'vroooom', 'vruh', 'wa', 'wall', 'wander', 'want-', 'weeks', 'whales', 'wheee', 'wherever', 'whisk', 'whites', 'whose', 'wiggling', 'wipes', 'wiping', 'wobble', 'woke', 'wore', 'worked', 'wrap', 'wunk', 'yaaa', 'yaaay', 'yard', 'yayy', 'yeaa', 'yeaaaah', 'yeah-', 'yeap', 'your--', 'youself', 'zipper', '~', '’ve']\n",
      "{'<pad>': 0, '<unk>': 1, '<sos>': 2, '<eos>': 3, '.': 4, ',': 5, 'you': 6, '?': 7, 'the': 8, 'yeah': 9, \"'s\": 10, 'a': 11, 'to': 12, 'it': 13, 'and': 14, 'that': 15, 'we': 16, 'i': 17, 'there': 18, 'is': 19, 'do': 20, 'want': 21, 'are': 22, '\"': 23, 'go': 24, 'can': 25, '!': 26, 'on': 27, 'okay': 28, 'in': 29, 'your': 30, 'have': 31, \"n't\": 32, 'this': 33, 'put': 34, 'oh': 35, 'one': 36, 'here': 37, 'all': 38, 'of': 39, 'what': 40, 'now': 41, 'see': 42, 'some': 43, 'get': 44, 'let': 45, 'right': 46, 'with': 47, 'ok': 48, \"'re\": 49, '...': 50, 'me': 51, 'going': 52, 'know': 53, 'look': 54, 'like': 55, 'at': 56, 'no': 57, 'where': 58, 'he': 59, 'not': 60, 'alright': 61, 'they': 62, 'for': 63, 'out': 64, 'up': 65, 'so': 66, 'think': 67, 'just': 68, 'if': 69, 'but': 70, 'ball': 71, 'sam': 72, 'little': 73, 'more': 74, '-': 75, 'kitty': 76, 'try': 77, 'good': 78, 's': 79, 'very': 80, 'then': 81, 'done': 82, 'be': 83, 'or': 84, 'my': 85, 'them': 86, 'baby': 87, 'did': 88, \"'m\": 89, \"'ll\": 90, 'too': 91, 'again': 92, 'back': 93, 'will': 94, 'down': 95, 'how': 96, 'off': 97, 'na': 98, 'play': 99, 'gon': 100, 'should': 101, 'come': 102, 'read': 103, 'big': 104, 'book': 105, 'was': 106, 'bit': 107, 'got': 108, 'wanna': 109, 'turn': 110, 'need': 111, 'other': 112, 'an': 113, 'about': 114, 'does': 115, 'over': 116, 'those': 117, 'huh': 118, 'well': 119, 'two': 120, 'yea': 121, 'make': 122, 'train': 123, 'time': 124, '..': 125, 'another': 126, 'bye': 127, 'water': 128, 'bear': 129, 'its': 130, 'these': 131, 'take': 132, 'ready': 133, 'which': 134, 'lots': 135, 'uh': 136, 'hi': 137, 'when': 138, 'remember': 139, 'walk': 140, 'still': 141, 'why': 142, 'give': 143, 'has': 144, 'goes': 145, 'am': 146, 'car': 147, 'lot': 148, 'banana': 149, 'nt': 150, 'outside': 151, '--': 152, 'gone': 153, 'way': 154, 'poo': 155, 'yummy': 156, 'yeahh': 157, 'truck': 158, 'eat': 159, 'pretty': 160, 'away': 161, 'shoes': 162, 'things': 163, '_': 164, 'say': 165, 'sit': 166, 'because': 167, 'hard': 168, 'around': 169, 'might': 170, 'our': 171, 'bunny': 172, 'doggy': 173, '…': 174, 'bread': 175, 'ca': 176, 'else': 177, 'lets': 178, 'red': 179, '’s': 180, 'lovely': 181, 'socks': 182, 'guy': 183, 'happy': 184, 'eating': 185, 'looking': 186, 'nice': 187, 'who': 188, 'something': 189, 'bin': 190, 'cup': 191, 'eggs': 192, 'nappy': 193, 'page': 194, 'mommy': 195, 'sure': 196, 'books': 197, 'job': 198, 'ah': 199, 'blue': 200, 'really': 201, 'today': 202, 'hand': 203, 'find': 204, 'maybe': 205, 'though': 206, 'also': 207, 'first': 208, 'foot': 209, 'his': 210, 'were': 211, 'bottle': 212, 'hold': 213, 'she': 214, 'getting': 215, 'three': 216, 'draw': 217, 'egg': 218, \"'\": 219, 'clap': 220, 'from': 221, 'hot': 222, 're': 223, 'doing': 224, 'had': 225, 'show': 226, 'him': 227, 'shirt': 228, 'green': 229, 'as': 230, 'different': 231, 'help': 232, 'hey': 233, 'better': 234, 'milk': 235, 'boop': 236, 'much': 237, 'could': 238, \"'ve\": 239, 'yes': 240, 'coming': 241, 'actually': 242, 'would': 243, 'yep': 244, 'mouth': 245, 'by': 246, 'hello': 247, 'pants': 248, 'potty': 249, 'went': 250, 'camera': 251, 'n’t': 252, 'hands': 253, 'mm': 254, 'open': 255, 'while': 256, 'yourself': 257, 'four': 258, 'sand': 259, 'pick': 260, 'rub': 261, 'shall': 262, 'says': 263, 'yellow': 264, 'watch': 265, 'heres': 266, 'inside': 267, 'flowers': 268, 'use': 269, '....': 270, 'apple': 271, 'love': 272, 'nope': 273, '–': 274, 'wow': 275, 'almost': 276, 'new': 277, 'push': 278, 'behind': 279, 'bubbles': 280, 'into': 281, 'throw': 282, 'duck': 283, 'puzzle': 284, 'work': 285, 'girl': 286, 'making': 287, 'balloon': 288, 'boy': 289, 'brown': 290, 'cow': 291, \"'d\": 292, 'house': 293, 'lid': 294, 'sorry': 295, 'any': 296, 'close': 297, 'orange': 298, 'sheep': 299, 'thing': 300, 'boo': 301, 'kitties': 302, 'under': 303, 'brush': 304, 'm': 305, 'playing': 306, 'putting': 307, 'wear': 308, 'beach': 309, 'bloop': 310, 'ducks': 311, 'finish': 312, 'balls': 313, 'chicken': 314, 'mmm': 315, 'music': 316, 'thank': 317, 'yay': 318, 'blow': 319, 'cold': 320, 'hmm': 321, 'only': 322, 'trying': 323, 'um': 324, 'yet': 325, 'day': 326, 'purple': 327, 'room': 328, 'ruff': 329, 'flower': 330, 'sad': 331, 'toby': 332, 'wash': 333, 'bring': 334, 'grab': 335, 'hang': 336, 'head': 337, 'tired': 338, 'weird': 339, 'wo': 340, 'browns': 341, 'bucket': 342, 'fish': 343, 'fun': 344, 'home': 345, 'marmite': 346, 'ohh': 347, 'sometimes': 348, 'hash': 349, 'mean': 350, 'probably': 351, 'said': 352, 'feet': 353, 'cause': 354, 'farm': 355, 'her': 356, 'ones': 357, 'reading': 358, 'stand': 359, 'us': 360, 'bounce': 361, 'keep': 362, 'light': 363, 'spoon': 364, 'together': 365, 'wait': 366, 'before': 367, 'jam': 368, 'babies': 369, 'chair': 370, 'clean': 371, 'press': 372, 'change': 373, 'next': 374, 'stick': 375, 'teeth': 376, 'through': 377, 'birds': 378, 'fell': 379, 'having': 380, 'horse': 381, 'jacket': 382, 'juice': 383, 'crib': 384, 'paper': 385, 'toys': 386, 'yup': 387, 'already': 388, 'clothes': 389, 'cut': 390, 'even': 391, 'fire': 392, 'looks': 393, 'many': 394, 'wrong': 395, 'ya': 396, 'bad': 397, 'bag': 398, 'birdy': 399, 'both': 400, 'feel': 401, 'yeahhh': 402, 'blocks': 403, 'box': 404, 'drink': 405, 'tree': 406, 'trees': 407, 'backpack': 408, 'cheep': 409, 'color': 410, 'hippo': 411, 'hungry': 412, 'kind': 413, 'left': 414, 'made': 415, 'white': 416, 'bowl': 417, 'dark': 418, 'everything': 419, 'far': 420, 'same': 421, 'saying': 422, 'stuff': 423, 'top': 424, 'been': 425, 'birdies': 426, 'blo': 427, 'door': 428, 'enough': 429, 'picture': 430, 'walking': 431, 'five': 432, 'hear': 433, 'leave': 434, 'mmkay': 435, 'ahh': 436, 'bed': 437, 'dump': 438, 'fine': 439, 'lift': 440, 'noise': 441, 'pee': 442, 'squish': 443, 'food': 444, 'long': 445, 'makes': 446, 'op': 447, 'people': 448, 'sitting': 449, 'black': 450, 'bop': 451, 'cream': 452, 'dummy': 453, 'fall': 454, 'nose': 455, 'ooh': 456, 'toy': 457, 'yum': 458, 'colors': 459, 'lap': 460, 'last': 461, 'move': 462, 'nom': 463, 'saw': 464, 'after': 465, 'carry': 466, 'cars': 467, 'doggies': 468, 'few': 469, 'fluffy': 470, 'grapes': 471, 'grass': 472, 'pat': 473, 'sock': 474, 'than': 475, 'biscuit': 476, 'comes': 477, 'end': 478, 'funny': 479, 'game': 480, 'pictures': 481, 'soon': 482, 'start': 483, 'talking': 484, 'tell': 485, 'toes': 486, 'bird': 487, 'face': 488, 'plate': 489, 'shoe': 490, 'stairs': 491, 'ta': 492, 'wet': 493, 'anymore': 494, 'boat': 495, 'called': 496, 'strawberry': 497, 'blanket': 498, 'button': 499, 'careful': 500, 'feed': 501, 'giraffe': 502, 'hole': 503, 'o': 504, 'six': 505, 'words': 506, 'chupey': 507, 'dog': 508, 'eight': 509, 'fiona': 510, 'full': 511, 'thought': 512, 'touch': 513, 'being': 514, 'dinosaur': 515, 'drawing': 516, 'dropped': 517, 'dry': 518, 'lamb': 519, 'old': 520, 'pooing': 521, 'rice': 522, 'standing': 523, 'trucks': 524, 'woah': 525, 'aunt': 526, 'bottom': 527, 'climb': 528, 'drinking': 529, 'either': 530, 'fast': 531, 'favorite': 532, 'hm': 533, 'mouse': 534, 'papa': 535, 'scared': 536, 'silly': 537, 'wants': 538, 'window': 539, 'belly': 540, 'chick': 541, 'cows': 542, 'fruit': 543, 'gentle': 544, 'library': 545, 'logs': 546, 'please': 547, 'run': 548, 'tractor': 549, 'anything': 550, 'nap': 551, 'nothing': 552, 'piece': 553, 'pull': 554, 'quack': 555, 'sleep': 556, 'animals': 557, 'breakfast': 558, 'breaky': 559, 'cement': 560, 'great': 561, 'hat': 562, 'idea': 563, 'later': 564, 'marker': 565, 'mirror': 566, 'nine': 567, 'oil': 568, 'once': 569, 'painting': 570, 'pig': 571, 'sandpit': 572, 'shake': 573, 'side': 574, 'soft': 575, 'sort': 576, 'store': 577, 'sun': 578, 'sushi': 579, 'vroom': 580, 'forgot': 581, 'hair': 582, 'high': 583, 'interesting': 584, 'lion': 585, 'playground': 586, 'roar': 587, 'somewhere': 588, 'came': 589, 'cluck': 590, 'eyes': 591, 'happens': 592, 'hashbrowns': 593, 'pen': 594, 'running': 595, 'second': 596, 'song': 597, 'stay': 598, 'bark': 599, 'bike': 600, 'boom': 601, 'bout': 602, 'cat': 603, 'coffee': 604, 'cups': 605, 'dolly': 606, 'floor': 607, 'frosting': 608, 'hurt': 609, 'leaves': 610, 'line': 611, 'minutes': 612, 'money': 613, 'mwah': 614, 'never': 615, 'night': 616, 'ohhh': 617, 'part': 618, 'round': 619, 'woof': 620, 'basket': 621, 'boing': 622, 'cook': 623, 'drop': 624, 'drum': 625, 'guess': 626, 'ha': 627, 'instead': 628, 'number': 629, 'pebe': 630, 'point': 631, 'pour': 632, 'rocks': 633, 'small': 634, 'squishy': 635, 'took': 636, 'wagon': 637, 'without': 638, 'boxes': 639, 'butterfly': 640, 'computer': 641, 'cuz': 642, 'doh': 643, 'gets': 644, 'ma': 645, 'oops': 646, 'park': 647, 'pb': 648, 'puree': 649, 'quite': 650, 'snot': 651, 'wonder': 652, 'works': 653, 'always': 654, 'bears': 655, 'birdie': 656, 'bite': 657, 'buy': 658, 'check': 659, 'dinner': 660, 'dirt': 661, 'dirty': 662, 'engine': 663, 'garden': 664, 'missed': 665, 'nappie': 666, 'pink': 667, 'place': 668, 'seven': 669, 'shorts': 670, 'sleepy': 671, 'smiling': 672, 'sound': 673, 'star': 674, 'toast': 675, 'ahead': 676, 'bum': 677, 'cake': 678, 'dance': 679, 'duh': 680, 'each': 681, 'everyone': 682, 'everywhere': 683, 'exciting': 684, 'eye': 685, 'friend': 686, 'guitar': 687, 'heavy': 688, 'hmmm': 689, 'hug': 690, 'leaf': 691, 'leg': 692, 'letters': 693, 'paint': 694, 'pajamas': 695, 'problem': 696, 'slide': 697, 't': 698, 'table': 699, 'tiger': 700, 'word': 701, 'working': 702, 'ahhh': 703, 'bananas': 704, 'buttons': 705, 'choo': 706, 'clouds': 707, 'cuddle': 708, 'giving': 709, 'honey': 710, 'ill': 711, 'jumping': 712, 'kinda': 713, 'meow': 714, 'mine': 715, 'morning': 716, 'nappies': 717, 'past': 718, 'sleeping': 719, 'tail': 720, 'teddy': 721, 'tower': 722, 'tweet': 723, 'until': 724, 'woo': 725, 'yours': 726, 'able': 727, 'alex': 728, 'arm': 729, 'dancing': 730, 'deck': 731, 'dummies': 732, 'formula': 733, 'fridge': 734, 'jeans': 735, 'jerry': 736, 'kangaroo': 737, 'koala': 738, 'likes': 739, 'living': 740, 'nonny': 741, 'oop': 742, 'peekaboo': 743, 'pieces': 744, 'real': 745, 'sky': 746, 'uhh': 747, 'used': 748, 'wanted': 749, 'zebra': 750, 'bee': 751, 'between': 752, 'blah': 753, 'blank': 754, 'bok': 755, 'break': 756, 'doggie': 757, 'driving': 758, 'easier': 759, 'front': 760, 'garbage': 761, 'grape': 762, 'half': 763, 'means': 764, 'mhm': 765, 'named': 766, 'own': 767, 'scary': 768, 'station': 769, 'umbrella': 770, 'yesterday': 771, ':': 772, 'ba': 773, 'bath': 774, 'block': 775, 'blop': 776, 'blowing': 777, 'blu': 778, 'boring': 779, 'bunch': 780, 'care': 781, 'closer': 782, 'count': 783, 'cross': 784, 'doctor': 785, 'donkey': 786, 'drain': 787, 'dye': 788, 'ears': 789, 'emily': 790, 'fork': 791, 'friends': 792, 'goodness': 793, 'grandma': 794, 'ground': 795, 'harder': 796, 'hit': 797, 'magazine': 798, 'may': 799, 'monkey': 800, 'numbers': 801, 'pan': 802, 'peek': 803, 'pile': 804, 'puzzles': 805, 'smiley': 806, 'splash': 807, 'sunscreen': 808, 'ten': 809, 'washing': 810, 'ate': 811, 'aw': 812, 'bar': 813, 'blur': 814, 'broke': 815, 'cakes': 816, 'da': 817, 'empty': 818, 'emu': 819, 'fit': 820, 'frog': 821, 'holding': 822, 'knees': 823, 'laundry': 824, 'lunch': 825, 'match': 826, 'phone': 827, 'rattle': 828, 'salt': 829, 'sing': 830, 'someone': 831, 'strawberries': 832, 'stuck': 833, 'tag': 834, 'taking': 835, 'their': 836, 'toilet': 837, 'tracks': 838, 'whole': 839, 'wood': 840, 'worry': 841, 'yolk': 842, 'apples': 843, 'asleep': 844, 'bah': 845, 'best': 846, 'blup': 847, 'broken': 848, 'broom': 849, 'klop': 850, 'knife': 851, 'lay': 852, 'man': 853, 'markers': 854, 'mix': 855, 'owie': 856, 'stir': 857, 'uncle': 858, 'upside': 859, 'wave': 860, 'weeds': 861, 'whoops': 862, \"'cause\": 863, '......': 864, 'bells': 865, 'busy': 866, 'call': 867, 'cockatoo': 868, 'coins': 869, 'ducky': 870, 'easy': 871, 'ever': 872, 'flew': 873, 'johnny': 874, 'medicine': 875, 'mhmm': 876, 'mood': 877, 'moving': 878, 'needs': 879, 'noisy': 880, 'num': 881, 'otherwise': 882, 'pa': 883, 'pack': 884, 'piano': 885, 'pillows': 886, 'poor': 887, 'rest': 888, 'ribbon': 889, 'road': 890, 'robot': 891, 'salmon': 892, 'seen': 893, 'shirts': 894, 'stop': 895, 'sweetie': 896, 'tobby': 897, 'whoo': 898, 'wind': 899, 'write': 900, 'air': 901, 'bagel': 902, 'balloons': 903, 'bathroom': 904, 'bib': 905, 'bo': 906, 'chocolate': 907, 'days': 908, 'eh': 909, 'figure': 910, 'fix': 911, 'haha': 912, 'hill': 913, 'jump': 914, 'kay': 915, 'kiss': 916, 'legs': 917, 'live': 918, 'loud': 919, 'mkay': 920, 'name': 921, 'ohp': 922, 'plants': 923, 'q': 924, 'rawr': 925, 'reach': 926, 'recipe': 927, 'ride': 928, 'scoop': 929, 'shovel': 930, 'siren': 931, 'sounds': 932, 'swimming': 933, 'typing': 934, 'wiggle': 935, 'wipe': 936, 'wombat': 937, '.....': 938, 'across': 939, 'aww': 940, 'beautiful': 941, 'bicycle': 942, 'bus': 943, 'butterflies': 944, 'candle': 945, 'carousel': 946, 'climbing': 947, 'cough': 948, 'crazy': 949, 'cuddly': 950, 'falling': 951, 'found': 952, 'ladybug': 953, 'lids': 954, 'listen': 955, 'mmmm': 956, 'mom': 957, 'perfect': 958, 'pip': 959, 'seat': 960, 'seaweed': 961, 'shh': 962, 'silver': 963, 'smoke': 964, 'sticky': 965, 'swish': 966, 'tiny': 967, 'toothbrush': 968, 'totally': 969, 'turned': 970, 'war': 971, 'wearing': 972, 'wee': 973, '2': 974, '3': 975, 'anyway': 976, 'anyways': 977, 'apart': 978, 'arms': 979, 'bees': 980, 'birthday': 981, 'bla': 982, 'bouncing': 983, 'bouncy': 984, 'bricks': 985, 'brushing': 986, 'bunnies': 987, 'carrying': 988, 'closed': 989, 'cool': 990, 'cover': 991, 'crawl': 992, 'd': 993, 'dan': 994, 'e': 995, 'every': 996, 'feeling': 997, 'furry': 998, 'gloves': 999, 'grandpa': 1000, 'gross': 1001, 'hay': 1002, 'heart': 1003, 'key': 1004, 'kids': 1005, 'kissing': 1006, 'kitchen': 1007, 'letter': 1008, 'lines': 1009, 'missing': 1010, 'mk': 1011, 'n': 1012, 'naked': 1013, 'ooo': 1014, 'pear': 1015, 'penguin': 1016, 'picked': 1017, 'possum': 1018, 'rocket': 1019, 'steps': 1020, 'such': 1021, 'talk': 1022, 'threw': 1023, 'tomato': 1024, 'underwear': 1025, 'waving': 1026, 'whoa': 1027, 'along': 1028, 'bench': 1029, 'brekky': 1030, 'building': 1031, 'circle': 1032, 'corn': 1033, 'daba': 1034, 'decide': 1035, 'drive': 1036, 'driveway': 1037, 'drums': 1038, 'echidna': 1039, 'excited': 1040, 'gladly': 1041, 'goo': 1042, 'hen': 1043, 'hide': 1044, 'huge': 1045, 'least': 1046, 'lights': 1047, 'mailbox': 1048, 'natalie': 1049, 'photo': 1050, 'pop': 1051, 'presents': 1052, 'rah': 1053, 'sausage': 1054, 'shiny': 1055, 'slinky': 1056, 'spell': 1057, 'swim': 1058, 'taste': 1059, 'tongue': 1060, 'trains': 1061, 'turning': 1062, 'watching': 1063, 'whoop': 1064, '8': 1065, 'bang': 1066, 'bernard': 1067, 'boots': 1068, 'brought': 1069, 'butter': 1070, 'carrots': 1071, 'cheese': 1072, 'choose': 1073, 'clock': 1074, 'coat': 1075, 'crap': 1076, 'crawling': 1077, 'cute': 1078, 'dig': 1079, 'ear': 1080, 'enjoying': 1081, 'feels': 1082, 'fingers': 1083, 'flop': 1084, 'forth': 1085, 'garage': 1086, 'glasses': 1087, 'hats': 1088, 'helping': 1089, 'hhh': 1090, 'hiding': 1091, 'horses': 1092, 'interested': 1093, 'j': 1094, 'mind': 1095, 'natasha': 1096, 'none': 1097, 'peeby': 1098, 'pets': 1099, 'pillow': 1100, 'plant': 1101, 'pot': 1102, 'raining': 1103, 'rake': 1104, 'sheets': 1105, 'sick': 1106, 'since': 1107, 'sink': 1108, 'snakes': 1109, 'special': 1110, 'street': 1111, 'suppose': 1112, 'sweet': 1113, 'tanker': 1114, 'the--': 1115, 'thinking': 1116, 'type': 1117, 'umm': 1118, 'warm': 1119, 'world': 1120, 'y': 1121, 'you-': 1122, \"'bout\": 1123, '1': 1124, 'aeroplane': 1125, 'aha': 1126, 'andre': 1127, 'banging': 1128, 'ben': 1129, 'bet': 1130, 'bigger': 1131, 'biscuits': 1132, 'bites': 1133, 'bom': 1134, 'bounced': 1135, 'bu': 1136, 'case': 1137, 'ch': 1138, 'chase': 1139, 'choices': 1140, 'closes': 1141, 'coke': 1142, 'cooking': 1143, 'coughing': 1144, 'cranky': 1145, 'dear': 1146, 'dogs': 1147, 'drops': 1148, 'early': 1149, 'fur': 1150, 'gave': 1151, 'giraffes': 1152, 'god': 1153, 'gosh': 1154, 'hahaha': 1155, 'hairbrush': 1156, 'hoo': 1157, 'hope': 1158, 'it--': 1159, 'keys': 1160, 'la': 1161, 'late': 1162, 'laura': 1163, 'lauren': 1164, 'liked': 1165, 'll': 1166, 'mee': 1167, 'middle': 1168, 'mortgage': 1169, 'most': 1170, 'muh': 1171, 'nana': 1172, 'oatmeal': 1173, 'pages': 1174, 'pens': 1175, 'person': 1176, 'piglet': 1177, 'pills': 1178, 'pointing': 1179, 'poke': 1180, 'pooed': 1181, 'pulling': 1182, 'question': 1183, 'quiet': 1184, 'ring': 1185, 'rock': 1186, 'roll': 1187, 'shells': 1188, 'shoulders': 1189, 'shut': 1190, 'silky': 1191, 'sirens': 1192, 'skype': 1193, 'snack': 1194, 'sparkly': 1195, 'starting': 1196, 'stretch': 1197, 'supposed': 1198, 'throwing': 1199, 'track': 1200, 'trip': 1201, 'turtle': 1202, 'twenty': 1203, 'udder': 1204, 'underneath': 1205, 'upstairs': 1206, 'velvety': 1207, 'visit': 1208, 'w': 1209, 'wake': 1210, 'weee': 1211, 'week': 1212, 'wiggly': 1213, 'yeeeah': 1214, \"you're\": 1215, '/': 1216, 'ago': 1217, 'ahhhh': 1218, 'airplane': 1219, 'alien': 1220, 'awesome': 1221, 'baa': 1222, 'basically': 1223, 'biccie': 1224, 'bits': 1225, 'blood': 1226, 'bubbly': 1227, 'carrot': 1228, 'changed': 1229, 'cleaned': 1230, 'cookies': 1231, 'course': 1232, 'cracker': 1233, 'cried': 1234, 'cub': 1235, 'delivery': 1236, 'ducklings': 1237, 'elephant': 1238, 'fact': 1239, 'fight': 1240, 'finished': 1241, 'flour': 1242, 'fly': 1243, 'flying': 1244, 'g': 1245, 'goat': 1246, 'grey': 1247, 'guinea': 1248, 'h': 1249, 'happen': 1250, 'happened': 1251, 'hitting': 1252, 'houses': 1253, 'hurts': 1254, 'julie': 1255, 'jumper': 1256, 'kleenex': 1257, 'lady': 1258, 'lean': 1259, 'leaping': 1260, 'learn': 1261, 'less': 1262, 'lighter': 1263, 'logging': 1264, 'lovey': 1265, 'magpie': 1266, 'marmithe': 1267, 'meant': 1268, 'meet': 1269, 'mice': 1270, 'mister': 1271, 'mmk': 1272, 'moo': 1273, 'moved': 1274, 'must': 1275, 'neat': 1276, 'normal': 1277, 'oink': 1278, 'peanut': 1279, 'photos': 1280, 'pierre': 1281, 'plates': 1282, 'played': 1283, 'plop': 1284, 'row': 1285, 'sell': 1286, 'snail': 1287, 'sofa': 1288, 'spatula': 1289, 'splish': 1290, 'splosh': 1291, 'square': 1292, 'stephanie': 1293, 'sticking': 1294, 'story': 1295, 'stroller': 1296, 'th': 1297, 'tickle': 1298, 'towel': 1299, 'town': 1300, 'trash': 1301, 'twinkle': 1302, 've': 1303, 'wah': 1304, 'waking': 1305, 'weed': 1306, 'whee': 1307, 'wheel': 1308, ';': 1309, 'against': 1310, 'alone': 1311, 'ant': 1312, 'aston': 1313, 'b': 1314, 'barn': 1315, 'bored': 1316, 'bothering': 1317, 'bought': 1318, 'breky': 1319, 'cardigan': 1320, 'carpet': 1321, 'cheek': 1322, 'cheeks': 1323, 'chickens': 1324, 'chicks': 1325, 'chin': 1326, 'choke': 1327, 'cloud': 1328, 'cord': 1329, 'covered': 1330, 'curious': 1331, 'curtain': 1332, 'dave': 1333, 'daycare': 1334, 'digger': 1335, 'dots': 1336, 'drawer': 1337, 'driver': 1338, 'duckling': 1339, 'eaten': 1340, 'er': 1341, 'especially': 1342, 'except': 1343, 'feathers': 1344, 'forever': 1345, 'georgia': 1346, 'goodbye': 1347, 'goose': 1348, 'grapefruit': 1349, 'himself': 1350, 'ho': 1351, 'horrible': 1352, 'hose': 1353, 'hush': 1354, 'interest': 1355, 'irritating': 1356, 'is-': 1357, 'james': 1358, 'john': 1359, 'knee': 1360, 'knew': 1361, 'life': 1362, 'listening': 1363, 'longer': 1364, 'lorry': 1365, 'lory': 1366, 'lost': 1367, 'machine': 1368, 'mad': 1369, 'matthew': 1370, 'messy': 1371, 'minute': 1372, 'miss': 1373, 'mmhmm': 1374, 'mmmmm': 1375, 'mwm': 1376, 'near': 1377, 'nearly': 1378, 'nectarine': 1379, 'noises': 1380, 'nooo': 1381, 'notice': 1382, 'onto': 1383, 'oo': 1384, 'oooh': 1385, 'opening': 1386, 'order': 1387, 'ought': 1388, 'pasta': 1389, 'peace': 1390, 'peas': 1391, 'pigs': 1392, 'piles': 1393, 'plum': 1394, 'pu': 1395, 'puppy': 1396, 'railing': 1397, 'rent': 1398, 'rocking': 1399, 'seeing': 1400, 'seem': 1401, 'set': 1402, 'sign': 1403, 'spider': 1404, 'spill': 1405, 'starts': 1406, 'stool': 1407, 'takes': 1408, 'tall': 1409, 'thumb': 1410, 'tim': 1411, 'times': 1412, 'to-': 1413, 'tomorrow': 1414, 'tough': 1415, 'tracy': 1416, 'triangle': 1417, 'tried': 1418, 'ugh': 1419, 'uhp': 1420, 'unless': 1421, 'using': 1422, 'vinegar': 1423, 'warmer': 1424, 'weeeee': 1425, 'whah': 1426, 'whatever': 1427, 'windy': 1428, 'woops': 1429, 'x': 1430, 'yayyy': 1431, 'ye': 1432, 'year': 1433, 'years': 1434, 'you--': 1435, '4': 1436, 'agree': 1437, 'baaaa': 1438, 'beat': 1439, 'bend': 1440, 'bi': 1441, 'biccies': 1442, 'bins': 1443, 'blom': 1444, 'blueberries': 1445, 'body': 1446, 'brekkie': 1447, 'bridge': 1448, 'bubble': 1449, 'buckets': 1450, 'build': 1451, 'bump': 1452, 'bup': 1453, 'charlie': 1454, 'cherries': 1455, 'cherry': 1456, 'chilly': 1457, 'chubie': 1458, 'city': 1459, 'closing': 1460, 'cookie': 1461, 'cousins': 1462, 'crocodile': 1463, 'cry': 1464, 'crying': 1465, 'cupcake': 1466, 'deal': 1467, 'dessert': 1468, 'diddle': 1469, 'ding': 1470, 'dust': 1471, 'email': 1472, 'excuse': 1473, 'faces': 1474, 'fence': 1475, 'film': 1476, 'forget': 1477, 'frank': 1478, 'further': 1479, 'gibbon': 1480, 'glop': 1481, 'grow': 1482, 'grumpy': 1483, 'guana': 1484, 'gummies': 1485, 'guys': 1486, 'hate': 1487, 'heat': 1488, 'higher': 1489, 'hopefully': 1490, 'hum': 1491, 'hundred': 1492, 'hurry': 1493, 'i.': 1494, 'it-': 1495, 'keeps': 1496, 'kite': 1497, 'kookaburra': 1498, 'lake': 1499, 'lalala': 1500, 'leaving': 1501, 'lense': 1502, \"let's\": 1503, 'log': 1504, 'looked': 1505, 'lose': 1506, 'lower': 1507, 'mama': 1508, 'mh': 1509, 'moon': 1510, 'nannie': 1511, 'neighbor': 1512, 'nest': 1513, 'noo': 1514, 'opens': 1515, 'ours': 1516, 'ourselves': 1517, 'oven': 1518, 'owlets': 1519, 'pair': 1520, 'pantry': 1521, 'pencils': 1522, 'pet': 1523, 'pins': 1524, 'playful': 1525, 'pocket': 1526, 'polar': 1527, 'posy': 1528, 'power': 1529, 'pressing': 1530, 'pretend': 1531, 'price': 1532, 'puppet': 1533, 'rabbit': 1534, 'rain': 1535, 'rate': 1536, 'remeber': 1537, 'rooster': 1538, 'rope': 1539, 'rubbing': 1540, 'sandy': 1541, 'school': 1542, 'scissors': 1543, 'sea': 1544, 'sense': 1545, 'short': 1546, 'spend': 1547, 'spotty': 1548, 'stars': 1549, 'sticks': 1550, 'stopped': 1551, 'strong': 1552, 'suncream': 1553, 'sunrise': 1554, 'tags': 1555, 'tastes': 1556, 'toe': 1557, 'trapped': 1558, 'tub': 1559, 'turkey': 1560, 'waiting': 1561, 'wheat': 1562, 'wheels': 1563, 'whop': 1564, 'worried': 1565, 'xylophone': 1566, 'yaa': 1567, 'yayyyy': 1568, 'yeaaah': 1569, 'yo': 1570, 'yogurt': 1571, '’re': 1572, 'afraid': 1573, 'amy': 1574, 'anyone': 1575, 'art': 1576, 'ask': 1577, 'baba': 1578, 'bathtub': 1579, 'beh': 1580, 'bell': 1581, 'biscut': 1582, 'bisquit': 1583, 'blerp': 1584, 'boats': 1585, 'bright': 1586, 'buh': 1587, 'bush': 1588, 'butt': 1589, 'bwa': 1590, \"c'm\": 1591, 'carefully': 1592, 'chemist': 1593, 'closet': 1594, 'clothespin': 1595, 'clown': 1596, 'comic': 1597, 'counter': 1598, 'crayons': 1599, 'crocodiles': 1600, 'crunchy': 1601, 'cutting': 1602, 'dangerous': 1603, 'deet': 1604, 'delete': 1605, \"don't\": 1606, 'drew': 1607, 'drumming': 1608, 'dryer': 1609, 'dumping': 1610, 'exactly': 1611, 'extra': 1612, 'feeding': 1613, 'fifty': 1614, 'finally': 1615, 'finger': 1616, 'fixed': 1617, 'flat': 1618, 'fox': 1619, 'free': 1620, 'freight': 1621, 'friendly': 1622, 'glass': 1623, 'go-': 1624, 'gowee': 1625, 'gray': 1626, 'greens': 1627, 'hah': 1628, 'hall': 1629, 'hashbrown': 1630, 'heard': 1631, 'hearts': 1632, 'horn': 1633, 'hour': 1634, 'iguana': 1635, 'impressive': 1636, \"it's\": 1637, 'itch': 1638, 'itchy': 1639, 'itself': 1640, 'keeping': 1641, 'kiddo': 1642, 'kit': 1643, 'kitten': 1644, 'lalalalala': 1645, 'lips': 1646, 'lives': 1647, 'lorey': 1648, 'louis': 1649, 'low': 1650, \"m'kay\": 1651, 'magpies': 1652, 'mail': 1653, 'mak': 1654, 'mango': 1655, 'mcdonald': 1656, 'merp': 1657, 'microwave': 1658, 'monitor': 1659, 'mosquitoes': 1660, 'mr': 1661, 'muah': 1662, 'myself': 1663, 'nah': 1664, 'normally': 1665, 'not--': 1666, 'notebook': 1667, 'noticed': 1668, 'numbing': 1669, 'of--': 1670, 'others': 1671, 'ow': 1672, 'parts': 1673, 'pass': 1674, 'path': 1675, 'patient': 1676, 'penguins': 1677, 'pepper': 1678, 'pineapple': 1679, 'pinecone': 1680, 'plastic': 1681, 'plug': 1682, 'plums': 1683, 'port': 1684, 'proud': 1685, 'pulled': 1686, 'purée': 1687, 'racing': 1688, 'rainbow': 1689, 'raspberry': 1690, 'recently': 1691, 'remembered': 1692, 'rule': 1693, 'save': 1694, 'scales': 1695, 'schedule': 1696, 'scoops': 1697, 'scrub': 1698, 'seems': 1699, 'semi': 1700, 'showing': 1701, 'sippy': 1702, 'skateboard': 1703, 'smells': 1704, 'snap': 1705, 'sneeze': 1706, 'songs': 1707, 'spinning': 1708, 'spoons': 1709, 'stair': 1710, 'stamp': 1711, 'step': 1712, 'steve': 1713, 'straw': 1714, 'stripes': 1715, 'summer': 1716, 'swing': 1717, 'tap': 1718, 'tea': 1719, 'technically': 1720, 'that--': 1721, 'till': 1722, 'to--': 1723, 'tube': 1724, 'turner': 1725, 'tv': 1726, 'twist': 1727, 'u': 1728, 'uhhh': 1729, 'uncomfortable': 1730, 'understand': 1731, 'van': 1732, 'vrooom': 1733, 'walker': 1734, 'wallet': 1735, 'watermelon': 1736, 'what-': 1737, 'woop': 1738, 'yeaah': 1739, 'yuck': 1740, 'zero': 1741, 'zip': 1742, 'a-': 1743, 'accidentally': 1744, 'add': 1745, 'ahhhhhhhh': 1746, 'airport': 1747, 'although': 1748, 'ambulance': 1749, 'and-': 1750, 'antlers': 1751, 'ar': 1752, 'attached': 1753, 'australia': 1754, 'awake': 1755, 'awhile': 1756, 'backwards': 1757, 'bacon': 1758, 'badly': 1759, 'bars': 1760, 'bent': 1761, 'bikes': 1762, 'bingley': 1763, 'bisquits': 1764, 'bling': 1765, 'blows': 1766, 'blub': 1767, 'blurp': 1768, 'bottles': 1769, 'boys': 1770, 'brr': 1771, 'brrrr': 1772, 'bug': 1773, 'burp': 1774, 'buses': 1775, 'cannon': 1776, 'catch': 1777, 'caterpillar': 1778, 'cave': 1779, 'chain': 1780, 'chik': 1781, 'cho': 1782, 'choop': 1783, 'chord': 1784, 'chug': 1785, 'circles': 1786, 'clapping': 1787, 'cleaning': 1788, 'cloth': 1789, 'clunk': 1790, 'coin': 1791, 'comfortable': 1792, 'con': 1793, 'coo': 1794, 'cube': 1795, 'cucumber': 1796, 'dami': 1797, 'darcy': 1798, 'diamond': 1799, 'difficult': 1800, 'don': 1801, 'dressed': 1802, 'drill': 1803, 'dun': 1804, 'eagle': 1805, 'edge': 1806, 'ee': 1807, 'elephants': 1808, 'ello': 1809, 'emus': 1810, 'fair': 1811, 'ferris': 1812, 'fireman': 1813, 'floated': 1814, 'fold': 1815, 'fragile': 1816, 'frustrating': 1817, 'gate': 1818, 'general': 1819, 'gently': 1820, 'gonna': 1821, 'goods': 1822, 'handle': 1823, 'happening': 1824, 'heh': 1825, 'hiccup': 1826, 'hotter': 1827, 'huhh': 1828, \"i'm\": 1829, 'ice': 1830, 'indeed': 1831, 'ipad': 1832, 'jackets': 1833, 'jackie': 1834, 'jane': 1835, 'jeez': 1836, 'kick': 1837, 'klo': 1838, 'knows': 1839, 'land': 1840, 'large': 1841, 'laughing': 1842, 'lemon': 1843, 'liking': 1844, 'litter': 1845, 'lived': 1846, 'main': 1847, 'mammy': 1848, 'matches': 1849, 'meantime': 1850, 'mess': 1851, 'mmhm': 1852, 'mole': 1853, 'moment': 1854, 'moop': 1855, 'moose': 1856, 'mostly': 1857, 'moth': 1858, 'movie': 1859, 'mud': 1860, 'mushrooms': 1861, 'names': 1862, 'nasty': 1863, 'neck': 1864, 'necklace': 1865, 'nectorine': 1866, 'neither': 1867, 'nn': 1868, 'nobody': 1869, 'nu': 1870, 'ohhhh': 1871, 'okay-': 1872, 'older': 1873, 'om': 1874, 'one--': 1875, 'oohh': 1876, 'oranges': 1877, 'paintings': 1878, 'peeing': 1879, 'pickaboo': 1880, 'platapus': 1881, 'poly': 1882, 'poop': 1883, 'quick': 1884, 'rack': 1885, 'rainy': 1886, 'ran': 1887, 'raspberries': 1888, 'rather': 1889, 'reason': 1890, 'recognize': 1891, 'ree': 1892, 'rid': 1893, 'righ': 1894, 'rinse': 1895, 'rolly': 1896, 'roly': 1897, 'roof': 1898, 'rules': 1899, 'salad': 1900, 'sandwich': 1901, 'sarah': 1902, 'scare': 1903, 'schnorp': 1904, 'selling': 1905, 'several': 1906, 'shaking': 1907, 'sharp': 1908, 'sheepdogs': 1909, 'shower': 1910, 'singing': 1911, 'site': 1912, 'slept': 1913, 'slippery': 1914, 'smart': 1915, 'smell': 1916, 'smelly': 1917, 'snake': 1918, 'soap': 1919, 'sometime': 1920, 'sour': 1921, 'sparkling': 1922, 'spit': 1923, 'squirm': 1924, 'stepping': 1925, 'stomp': 1926, 'string': 1927, 'stroke': 1928, 'stumble': 1929, 'sugar': 1930, 'suprised': 1931, 'swam': 1932, 'swinging': 1933, 'tables': 1934, 'tallest': 1935, 'that-': 1936, \"they're\": 1937, 'toasts': 1938, 'toddle': 1939, 'tomatoes': 1940, 'toothpaste': 1941, 'tractors': 1942, 'treat': 1943, 'tummy': 1944, 'twelve': 1945, 'twisting': 1946, 'unfortunately': 1947, 'usually': 1948, 'waddle': 1949, 'walked': 1950, 'washed': 1951, 'watering': 1952, \"we're\": 1953, 'weekend': 1954, 'whale': 1955, 'willy': 1956, 'wool': 1957, 'wooo': 1958, 'writing': 1959, \"y'know\": 1960, 'yaaaaay': 1961, 'yaay': 1962, 'yah': 1963, 'yeh': 1964, '(': 1965, '---': 1966, '10': 1967, '30': 1968, '5': 1969, 'a--': 1970, 'aah': 1971, 'above': 1972, 'achoo': 1973, 'acting': 1974, 'actual': 1975, 'afford': 1976, 'alphabet': 1977, 'amazing': 1978, 'ants': 1979, 'anywhere': 1980, 'appetite': 1981, 'asked': 1982, 'australian': 1983, 'awful': 1984, 'baaa': 1985, 'baboon': 1986, 'bahh': 1987, 'bakery': 1988, 'barbie': 1989, 'barrier': 1990, 'beans': 1991, 'beind': 1992, 'bending': 1993, 'biiig': 1994, 'bitty': 1995, 'bleh': 1996, 'blew': 1997, 'blobi': 1998, 'blobloblob': 1999, 'bloo': 2000, 'boil': 2001, 'bot': 2002, 'bothered': 2003, 'bouncey': 2004, 'brah': 2005, 'branches': 2006, 'breakie': 2007, 'brrr': 2008, 'bru': 2009, 'brunch': 2010, 'buddy': 2011, 'buhbuhbap': 2012, 'buildings': 2013, 'built': 2014, 'buoy': 2015, 'burner': 2016, 'burnt': 2017, 'burrt': 2018, 'but-': 2019, 'bzzz': 2020, 'can-': 2021, 'candles': 2022, 'castanet': 2023, 'cats': 2024, 'cauliflower': 2025, 'cd': 2026, 'certain': 2027, 'chairs': 2028, 'chalk': 2029, 'challenge': 2030, 'chasing': 2031, 'checking': 2032, 'cheetahs': 2033, 'chew': 2034, 'chopey': 2035, 'christmas': 2036, 'clear': 2037, 'clubhouse': 2038, 'colons': 2039, 'comfy': 2040, 'confused': 2041, 'confusing': 2042, 'container': 2043, 'cooked': 2044, 'cooling': 2045, 'couch': 2046, 'couple': 2047, 'cradle': 2048, 'crowns': 2049, 'cuddles': 2050, \"d'you\": 2051, 'daddy': 2052, 'danny': 2053, 'desk': 2054, 'digging': 2055, 'direction': 2056, 'distracted': 2057, 'do-': 2058, 'dock': 2059, 'doctors': 2060, 'dropping': 2061, 'drying': 2062, 'duhh': 2063, 'dung': 2064, 'during': 2065, 'dyes': 2066, 'earlier': 2067, 'easily': 2068, 'easter': 2069, 'edible': 2070, 'eebee': 2071, 'ehhh': 2072, 'ehhhh': 2073, 'ei': 2074, 'einstein': 2075, 'elizabeth': 2076, 'enjoy': 2077, 'erase': 2078, 'escaped': 2079, 'estate': 2080, 'everybody': 2081, 'eyebrows': 2082, 'f': 2083, 'falls': 2084, 'fan': 2085, 'farther': 2086, 'faster': 2087, 'fat': 2088, 'fault': 2089, 'fill': 2090, 'finds': 2091, 'flags': 2092, 'fleece': 2093, 'floppy': 2094, 'fruits': 2095, 'frustrated': 2096, 'fully': 2097, 'gah': 2098, 'geez': 2099, 'gi': 2100, 'girls': 2101, 'glad': 2102, 'glenalta': 2103, 'goddness': 2104, 'got-': 2105, 'grabbed': 2106, 'haa': 2107, 'hasbrowns': 2108, 'heading': 2109, 'hh': 2110, 'hickory': 2111, 'hickuping': 2112, 'hoi': 2113, 'holes': 2114, 'honeypot': 2115, 'hook': 2116, 'hospital': 2117, 'huhuh': 2118, 'hung': 2119, 'hunt': 2120, 'i-': 2121, 'ignore': 2122, 'ignoring': 2123, 'impressed': 2124, 'in--': 2125, 'is--': 2126, \"it's--\": 2127, 'jack': 2128, 'joking': 2129, 'just--': 2130, 'k': 2131, 'kayak': 2132, 'kettle': 2133, 'kicking': 2134, 'kid': 2135, 'kittie': 2136, 'kittys': 2137, 'kiwis': 2138, 'lalalala': 2139, 'lame': 2140, 'laps': 2141, 'laughter': 2142, 'laying': 2143, 'leap': 2144, 'letting': 2145, 'lettuce': 2146, 'level': 2147, 'lie': 2148, 'like--': 2149, 'lilacs': 2150, 'little-': 2151, 'loan': 2152, 'lollipops': 2153, 'lotion': 2154, 'loved': 2155, 'lub': 2156, 'magazines': 2157, 'mane': 2158, 'market': 2159, 'meaning': 2160, 'melon': 2161, 'mer': 2162, 'messed': 2163, 'mhhm': 2164, 'mixer': 2165, 'mmmkay': 2166, 'mmmmmm': 2167, 'mn': 2168, 'monster': 2169, 'mooh': 2170, 'moorhen': 2171, 'moot': 2172, 'mrrr': 2173, 'mum': 2174, 'nail': 2175, 'ne': 2176, 'nectarines': 2177, 'nee': 2178, 'nicely': 2179, 'nipple': 2180, 'nuh': 2181, 'nursery': 2182, 'o.': 2183, 'ocean': 2184, 'okayy': 2185, 'omega': 2186, 'one-': 2187, 'ope': 2188, 'opened': 2189, 'or-': 2190, 'orangutan': 2191, 'pain': 2192, 'papers': 2193, 'parking': 2194, 'particularly': 2195, 'passing': 2196, 'patting': 2197, 'peekabo': 2198, 'petrol': 2199, 'picking': 2200, 'pill': 2201, 'pipe': 2202, 'pipes': 2203, 'pizza': 2204, 'places': 2205, 'plain': 2206, 'plan': 2207, 'plane': 2208, 'plays': 2209, 'ploonk': 2210, 'plugs': 2211, 'pockets': 2212, 'pony': 2213, 'pood': 2214, 'poos': 2215, 'popped': 2216, 'possible': 2217, 'prejudice': 2218, 'present': 2219, 'pride': 2220, 'pumpkin': 2221, 'purse': 2222, 'pushing': 2223, 'puuush': 2224, 'quickly': 2225, 'r': 2226, 'rash': 2227, 'realized': 2228, 'recycling': 2229, 'reset': 2230, 'restaurant': 2231, 'riding': 2232, 'rings': 2233, 'ripping': 2234, 'river': 2235, 'rod': 2236, 'root': 2237, 'rose': 2238, 'rubik': 2239, 'ruin': 2240, 'rwar': 2241, 's.': 2242, 'sams': 2243, 'sandals': 2244, 'sat': 2245, 'screw': 2246, 'seconds': 2247, 'semicolon': 2248, 'serious': 2249, 'shhhh': 2250, 'similar': 2251, 'sip': 2252, 'skittles': 2253, 'slam': 2254, 'sliding': 2255, 'slightly': 2256, 'slip': 2257, 'slow': 2258, 'smaller': 2259, 'smile': 2260, 'smiled': 2261, 'smooth': 2262, 'snoutch': 2263, 'soccer': 2264, 'some-': 2265, 'someday': 2266, 'soo': 2267, 'spilled': 2268, 'sprawl': 2269, 'squeeze': 2270, 'squick': 2271, 'squirrel': 2272, 'squished': 2273, 'staying': 2274, 'stirring': 2275, 'strange': 2276, 'students': 2277, 'stuffed': 2278, 'stupid': 2279, 'sucking': 2280, 'suncreen': 2281, 'sunny': 2282, 'suzy': 2283, 'sweep': 2284, 'switch': 2285, 'swoosh': 2286, 'telling': 2287, 'tend': 2288, 'test': 2289, \"that's\": 2290, \"that's--\": 2291, 'thats': 2292, 'the-': 2293, 'there-': 2294, 'they-': 2295, 'third': 2296, 'threes': 2297, 'tickly': 2298, 'tied': 2299, 'tight': 2300, 'titi': 2301, 'told': 2302, 'tools': 2303, 'torture': 2304, 'touching': 2305, 'towels': 2306, 'trampoline': 2307, 'trick': 2308, 'tricycle': 2309, 'trouble': 2310, 'uh--': 2311, 'ummm': 2312, 'video': 2313, 'vinager': 2314, 'vroooom': 2315, 'vruh': 2316, 'wa': 2317, 'wall': 2318, 'wander': 2319, 'want-': 2320, 'weeks': 2321, 'whales': 2322, 'wheee': 2323, 'wherever': 2324, 'whisk': 2325, 'whites': 2326, 'whose': 2327, 'wiggling': 2328, 'wipes': 2329, 'wiping': 2330, 'wobble': 2331, 'woke': 2332, 'wore': 2333, 'worked': 2334, 'wrap': 2335, 'wunk': 2336, 'yaaa': 2337, 'yaaay': 2338, 'yard': 2339, 'yayy': 2340, 'yeaa': 2341, 'yeaaaah': 2342, 'yeah-': 2343, 'yeap': 2344, 'your--': 2345, 'youself': 2346, 'zipper': 2347, '~': 2348, '’ve': 2349}\n"
     ]
    }
   ],
   "source": [
    "import json\n",
    "with open(\"multimodal/vocab.json\", 'r') as f:\n",
    "    print(list(json.load(f).keys())) "
   ]
  },
  {
   "cell_type": "code",
   "execution_count": 84,
   "metadata": {},
   "outputs": [],
   "source": [
    "from utils import set_seed\n",
    "set_seed(42)"
   ]
  },
  {
   "cell_type": "code",
   "execution_count": 10,
   "metadata": {},
   "outputs": [
    {
     "name": "stdout",
     "output_type": "stream",
     "text": [
      "Loading CLIP...\n",
      "Successfully loaded CLIP-ViT-L/14\n"
     ]
    }
   ],
   "source": [
    "import data_utils\n",
    "import importlib\n",
    "importlib.reload(data_utils)\n",
    "device = 'cuda'\n",
    "model_name = 'clip'\n",
    "model, transform = data_utils.get_model(model_name, device)\n",
    "data = data_utils.AnimalDataset(\"/home/Dataset/xueyi/Animals_with_Attributes2\", transform, 'classes.txt',baby_vocab=True, use_attr=True, continuous=True, top_n=5)"
   ]
  },
  {
   "cell_type": "code",
   "execution_count": 14,
   "metadata": {},
   "outputs": [
    {
     "name": "stdout",
     "output_type": "stream",
     "text": [
      "{2: 'big, furry, strong, brown, cave', 3: 'big, ocean, black, water, fish', 6: 'furry, tail, white, ground, slow', 7: 'fast, big, tail, brown, strong', 9: 'big, water, ocean, blue, strong', 10: 'furry, lean, small, ground, tail', 12: 'small, brown, ground, furry, black', 13: 'stripes, strong, big, ground, fast', 16: 'brown, big, strong, ground, slow', 17: 'tree, tail, hands, furry, fast', 18: 'big, water, ocean, strong, smart', 19: 'big, gray, strong, ground, slow', 22: 'smart, fast, tail, furry, ground', 23: 'white, ground, furry, slow, black', 27: 'tail, furry, small, gray, tree', 29: 'furry, ground, white, small, fast', 31: 'big, lean, ground, yellow, tail', 38: 'stripes, black, white, ground, fast', 42: 'ground, smelly, big, tail, slow', 43: 'strong, big, furry, fast, tail', 44: 'small, tail, ground, white, fast', 45: 'white, big, furry, strong, fish', 49: 'big, tail, brown, ground, white'}\n"
     ]
    }
   ],
   "source": [
    "print(data.class_descriptions)"
   ]
  },
  {
   "cell_type": "code",
   "execution_count": 88,
   "metadata": {},
   "outputs": [],
   "source": [
    "import torch\n",
    "from tqdm import tqdm\n",
    "import clip\n",
    "\n",
    "class ZeroShotClassifier:\n",
    "    def __init__(self, model_name, model, device):\n",
    "        self.model_name = model_name\n",
    "        self.model = model\n",
    "        self.device = device\n",
    "        self.model.eval()\n",
    "\n",
    "    def get_txt_feature(self, clean_cls_name, cls_desc=None, prefix=\"\", use_attr=False):\n",
    "        if use_attr:\n",
    "            if cls_desc is None:\n",
    "                raise ValueError(\"cls_desc must be provided when use_attr is True.\")            \n",
    "            combined_texts = [f\"{prefix}{name}, {desc}\" for name, desc in zip(clean_cls_name, cls_desc.values())]\n",
    "            if \"cvcl\" in self.model_name:\n",
    "                print(combined_texts)  # 打印以验证正确性\n",
    "                text_tokens = [self.model.tokenize(text) for text in combined_texts]\n",
    "            elif \"clip\" in self.model_name:\n",
    "                print(combined_texts)  # 打印以验证正确性\n",
    "                text_inputs = clip.tokenize(combined_texts).to(self.device)\n",
    "        else:\n",
    "            texts = [f\"{prefix}{c}\" for c in clean_cls_name]\n",
    "            if \"cvcl\" in self.model_name:\n",
    "                text_tokens = [self.model.tokenize(c) for c in texts]\n",
    "            elif \"clip\" in self.model_name:\n",
    "                text_inputs = clip.tokenize(texts).to(self.device)\n",
    "\n",
    "        if \"cvcl\" in self.model_name:\n",
    "            text_inputs = torch.cat([txt[0] for txt in text_tokens]).to(self.device)\n",
    "            text_lens = torch.cat([txt[1] for txt in text_tokens]).to(self.device)\n",
    "            text_features = self.model.encode_text(text_inputs, text_lens)\n",
    "        elif \"clip\" in self.model_name:\n",
    "            text_features = self.model.encode_text(text_inputs)\n",
    "\n",
    "        normalized_text_features = text_features / text_features.norm(dim=-1, keepdim=True)\n",
    "        return normalized_text_features\n",
    "        \n",
    "    def get_img_feature(self, dataloader):\n",
    "        img_features_list = []\n",
    "        all_labels_list = []\n",
    "        for data in tqdm(dataloader, desc=\"Encoding Images\"):\n",
    "            img, label = data[:2] # can return more than 2 items\n",
    "            img = img.to(self.device)\n",
    "            img_features = self.model.encode_image(img)\n",
    "            img_features_list.append(img_features)\n",
    "            all_labels_list.append(label.to(self.device)) \n",
    "        img_features_tensor = torch.cat(img_features_list)\n",
    "        norm_img_features = img_features_tensor / img_features_tensor.norm(dim=-1, keepdim=True)\n",
    "        all_labels_tensor = torch.cat(all_labels_list)\n",
    "        return norm_img_features, all_labels_tensor\n",
    "    \n",
    "    def compute_similarity(self, img_features, text_features):\n",
    "        similarity = (100.0 * img_features @ text_features.T).softmax(dim=-1)\n",
    "        return similarity\n",
    "\n",
    "    def predict_labels(self, similarity, index_map):\n",
    "        preds = similarity.argmax(dim=-1)  # 这里获取的是相对于文本特征索引的最大值索引\n",
    "        # 使用从数据集中获取的映射来转换预测的索引\n",
    "        mapped_preds = [index_map[pred.item()] for pred in preds]\n",
    "        return torch.tensor(mapped_preds, device=preds.device)\n",
    "    \n",
    "    def predict(self, dataloader, prefix=None, use_attr=False):\n",
    "        with torch.no_grad():\n",
    "            text_features = self.get_txt_feature(dataloader.dataset.clean_cls_names, dataloader.dataset.class_descriptions, prefix, use_attr)\n",
    "            img_features, all_labels = self.get_img_feature(dataloader)\n",
    "            similarity = self.compute_similarity(img_features, text_features)\n",
    "            index_map = dataloader.dataset.index_map\n",
    "            all_preds = self.predict_labels(similarity, index_map)  # Pass the full_class_indices here\n",
    "            similarities = similarity.max(dim=1)[0].cpu().numpy()  # max value of each row\n",
    "        return similarities, all_preds, all_labels"
   ]
  },
  {
   "cell_type": "code",
   "execution_count": 89,
   "metadata": {},
   "outputs": [
    {
     "name": "stdout",
     "output_type": "stream",
     "text": [
      "    class_index class_name\n",
      "0             7      horse\n",
      "1            12       mole\n",
      "2            13      tiger\n",
      "3            16      moose\n",
      "4            19   elephant\n",
      "5            22        fox\n",
      "6            23      sheep\n",
      "7            27   squirrel\n",
      "8            29     rabbit\n",
      "9            31    giraffe\n",
      "10           38      zebra\n",
      "11           42        pig\n",
      "12           43       lion\n",
      "13           44      mouse\n",
      "14           49        cow\n",
      "{7: 'fast, big, tail, brown, strong, ground, lean, black, white, furry, smart', 12: 'small, brown, ground, furry, black, gray, slow, lean, fast, tail, smart', 13: 'stripes, strong, big, ground, fast, orange, tail, furry, lean, bush, black', 16: 'brown, big, strong, ground, slow, furry, tail, smelly, fast, smart, gray', 19: 'big, gray, strong, ground, slow, tail, smelly, bush, smart, brown, white', 22: 'smart, fast, tail, furry, ground, small, brown, lean, orange, red, fish', 23: 'white, ground, furry, slow, black, smelly, gray, small, bush, big, tail', 27: 'tail, furry, small, gray, tree, brown, fast, ground, lean, smart, hands', 29: 'furry, ground, white, small, fast, tail, brown, gray, black, bush, smelly', 31: 'big, lean, ground, yellow, tail, bush, brown, fast, strong, slow, orange', 38: 'stripes, black, white, ground, fast, tail, big, bush, lean, furry, strong', 42: 'ground, smelly, big, tail, slow, brown, strong, gray, white, smart, black', 43: 'strong, big, furry, fast, tail, ground, bush, brown, yellow, smelly, smart', 44: 'small, tail, ground, white, fast, furry, gray, brown, smelly, black, bush', 49: 'big, tail, brown, ground, white, black, strong, slow, smelly, furry, gray'}\n"
     ]
    }
   ],
   "source": [
    "classifier = ZeroShotClassifier(model_name, model, device)\n",
    "print(data.classes)\n",
    "cls_desc = data.class_descriptions\n",
    "print(cls_desc)"
   ]
  },
  {
   "cell_type": "code",
   "execution_count": 90,
   "metadata": {},
   "outputs": [
    {
     "name": "stdout",
     "output_type": "stream",
     "text": [
      "['horse, fast, big, tail, brown, strong, ground, lean, black, white, furry, smart', 'mole, small, brown, ground, furry, black, gray, slow, lean, fast, tail, smart', 'tiger, stripes, strong, big, ground, fast, orange, tail, furry, lean, bush, black', 'moose, brown, big, strong, ground, slow, furry, tail, smelly, fast, smart, gray', 'elephant, big, gray, strong, ground, slow, tail, smelly, bush, smart, brown, white', 'fox, smart, fast, tail, furry, ground, small, brown, lean, orange, red, fish', 'sheep, white, ground, furry, slow, black, smelly, gray, small, bush, big, tail', 'squirrel, tail, furry, small, gray, tree, brown, fast, ground, lean, smart, hands', 'rabbit, furry, ground, white, small, fast, tail, brown, gray, black, bush, smelly', 'giraffe, big, lean, ground, yellow, tail, bush, brown, fast, strong, slow, orange', 'zebra, stripes, black, white, ground, fast, tail, big, bush, lean, furry, strong', 'pig, ground, smelly, big, tail, slow, brown, strong, gray, white, smart, black', 'lion, strong, big, furry, fast, tail, ground, bush, brown, yellow, smelly, smart', 'mouse, small, tail, ground, white, fast, furry, gray, brown, smelly, black, bush', 'cow, big, tail, brown, ground, white, black, strong, slow, smelly, furry, gray']\n"
     ]
    },
    {
     "name": "stderr",
     "output_type": "stream",
     "text": [
      "Encoding Images: 100%|██████████| 29/29 [01:35<00:00,  3.31s/it]\n"
     ]
    },
    {
     "name": "stdout",
     "output_type": "stream",
     "text": [
      "tensor([16,  7, 16,  ..., 49, 49, 49], device='cuda:0')\n",
      "tensor([ 7,  7,  7,  ..., 49, 49, 49], device='cuda:0')\n"
     ]
    }
   ],
   "source": [
    "dataloader = torch.utils.data.DataLoader(data, batch_size=512, shuffle=False, num_workers=4)\n",
    "similarities, predictions, labels = classifier.predict(dataloader, prefix=\"\", use_attr=True)\n",
    "print(predictions)\n",
    "print(labels)"
   ]
  },
  {
   "cell_type": "code",
   "execution_count": 91,
   "metadata": {},
   "outputs": [
    {
     "name": "stdout",
     "output_type": "stream",
     "text": [
      "{0: 7, 1: 12, 2: 13, 3: 16, 4: 19, 5: 22, 6: 23, 7: 27, 8: 29, 9: 31, 10: 38, 11: 42, 12: 43, 13: 44, 14: 49}\n",
      "    class_index class_name\n",
      "0             7      horse\n",
      "1            12       mole\n",
      "2            13      tiger\n",
      "3            16      moose\n",
      "4            19   elephant\n",
      "5            22        fox\n",
      "6            23      sheep\n",
      "7            27   squirrel\n",
      "8            29     rabbit\n",
      "9            31    giraffe\n",
      "10           38      zebra\n",
      "11           42        pig\n",
      "12           43       lion\n",
      "13           44      mouse\n",
      "14           49        cow\n",
      "['horse', 'mole', 'tiger', 'moose', 'elephant', 'fox', 'sheep', 'squirrel', 'rabbit', 'giraffe', 'zebra', 'pig', 'lion', 'mouse', 'cow']\n"
     ]
    }
   ],
   "source": [
    "print(data.index_map)\n",
    "print(data.classes)\n",
    "print(data.clean_cls_names)"
   ]
  },
  {
   "cell_type": "code",
   "execution_count": 92,
   "metadata": {},
   "outputs": [
    {
     "name": "stdout",
     "output_type": "stream",
     "text": [
      "Accuracy: 96.04%\n"
     ]
    }
   ],
   "source": [
    "from utils import calculate_accuracy\n",
    "acc, _ = calculate_accuracy(predictions, labels)\n",
    "print(f\"Accuracy: {acc * 100:.2f}%\")"
   ]
  },
  {
   "cell_type": "markdown",
   "metadata": {},
   "source": [
    "Top N?"
   ]
  },
  {
   "cell_type": "code",
   "execution_count": 93,
   "metadata": {},
   "outputs": [
    {
     "name": "stdout",
     "output_type": "stream",
     "text": [
      "Loading CVCL...\n"
     ]
    },
    {
     "name": "stderr",
     "output_type": "stream",
     "text": [
      "Lightning automatically upgraded your loaded checkpoint from v1.5.8 to v2.2.1. To apply the upgrade to your files permanently, run `python -m pytorch_lightning.utilities.upgrade_checkpoint ../../.cache/huggingface/hub/models--wkvong--cvcl_s_dino_resnext50_embedding/snapshots/fe96aa69683bad69e5dd5195fc874a3edb8cb691/cvcl_s_dino_resnext50_embedding.ckpt`\n"
     ]
    },
    {
     "name": "stdout",
     "output_type": "stream",
     "text": [
      "Successfully loaded CVCL-resnext50\n",
      "Tokens: tensor([[   2,  381,    5,  531,    5,  104,    5,  720,    5,  290,    5, 1552,\n",
      "            5,  795,    5, 1259,    5, 1915,    5,  998,    5,  416,    5,  450,\n",
      "            3]])\n",
      "Token lengths: tensor([25])\n"
     ]
    },
    {
     "name": "stderr",
     "output_type": "stream",
     "text": [
      "/home/xke001/miniconda3/envs/cvcl/lib/python3.8/site-packages/pytorch_lightning/utilities/parsing.py:199: Attribute 'vision_encoder' is an instance of `nn.Module` and is already saved during checkpointing. It is recommended to ignore them using `self.save_hyperparameters(ignore=['vision_encoder'])`.\n",
      "/home/xke001/miniconda3/envs/cvcl/lib/python3.8/site-packages/pytorch_lightning/utilities/parsing.py:199: Attribute 'text_encoder' is an instance of `nn.Module` and is already saved during checkpointing. It is recommended to ignore them using `self.save_hyperparameters(ignore=['text_encoder'])`.\n"
     ]
    }
   ],
   "source": [
    "model, _  = get_model('cvcl_res', device)\n",
    "description = \"horse,fast,big,tail,brown,strong,ground,lean,smart,furry,white,black\"\n",
    "tokens, token_lengths = model.tokenize(description)\n",
    "print(f\"Tokens: {tokens}\")\n",
    "print(f\"Token lengths: {token_lengths}\")"
   ]
  },
  {
   "cell_type": "code",
   "execution_count": 94,
   "metadata": {},
   "outputs": [
    {
     "name": "stdout",
     "output_type": "stream",
     "text": [
      "    attribute_index attribute_name\n",
      "0                 1          black\n",
      "1                 2          white\n",
      "2                 3           blue\n",
      "3                 4          brown\n",
      "4                 5           gray\n",
      "5                 6         orange\n",
      "6                 7            red\n",
      "7                 8         yellow\n",
      "10               11        stripes\n",
      "11               12          furry\n",
      "14               15            big\n",
      "15               16          small\n",
      "17               18           lean\n",
      "19               20          hands\n",
      "25               26           tail\n",
      "33               34         smelly\n",
      "39               40           fast\n",
      "40               41           slow\n",
      "41               42         strong\n",
      "51               52           fish\n",
      "67               68           bush\n",
      "73               74          ocean\n",
      "74               75         ground\n",
      "75               76          water\n",
      "76               77           tree\n",
      "77               78           cave\n",
      "80               81          smart\n"
     ]
    }
   ],
   "source": [
    "print(data.attribute_file)"
   ]
  },
  {
   "cell_type": "code",
   "execution_count": 95,
   "metadata": {},
   "outputs": [
    {
     "name": "stdout",
     "output_type": "stream",
     "text": [
      "Top Attributes and their values:\n",
      "smart: 37.28\n",
      "furry: 40.58\n",
      "white: 42.91\n",
      "black: 44.9\n",
      "lean: 47.96\n",
      "ground: 56.52\n",
      "strong: 69.13\n",
      "brown: 69.41\n",
      "tail: 70.42\n",
      "big: 71.5\n",
      "fast: 81.68\n"
     ]
    }
   ],
   "source": [
    "class_index = 7  # 1-based index, 用于选取类似“horse”这样的类\n",
    "\n",
    "data = AnimalDataset(\"/home/Dataset/xueyi/Animals_with_Attributes2\", transform, 'classes.txt', True, True, True)\n",
    "attribute_vector = data.attribute_matrix[class_index - 1]\n",
    "\n",
    "# 获取属性值的索引，这次只取最高的8个或10个值\n",
    "top_indices = np.argsort(attribute_vector)[-11:]  # 可以修改这里的数值为-8或-10\n",
    "top_values = attribute_vector[top_indices]\n",
    "# 确保属性名称正确地对应于这些索引\n",
    "top_attribute_names = [data.attribute_file['attribute_name'].iloc[i] for i in top_indices]\n",
    "\n",
    "# 打印结果，确保以降序打印属性\n",
    "print(\"Top Attributes and their values:\")\n",
    "for name, value in zip(top_attribute_names, top_values):\n",
    "    print(f\"{name}: {value}\")"
   ]
  },
  {
   "cell_type": "markdown",
   "metadata": {},
   "source": [
    "more attri more noise? top11=>Accuracy: 6.84% top7=>8.64% \n",
    "no attri: 8+\n",
    "no baby: 4+\n"
   ]
  }
 ],
 "metadata": {
  "kernelspec": {
   "display_name": "cvcl",
   "language": "python",
   "name": "python3"
  },
  "language_info": {
   "codemirror_mode": {
    "name": "ipython",
    "version": 3
   },
   "file_extension": ".py",
   "mimetype": "text/x-python",
   "name": "python",
   "nbconvert_exporter": "python",
   "pygments_lexer": "ipython3",
   "version": "3.8.19"
  }
 },
 "nbformat": 4,
 "nbformat_minor": 2
}
