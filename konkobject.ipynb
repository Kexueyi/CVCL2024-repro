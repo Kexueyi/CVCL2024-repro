{
 "cells": [
  {
   "cell_type": "markdown",
   "metadata": {},
   "source": [
    "17-object, Massive Memory is the correspodning eval dataset in science paper.\n",
    "64 classes after baby filter."
   ]
  },
  {
   "cell_type": "code",
   "execution_count": 1,
   "metadata": {},
   "outputs": [
    {
     "name": "stdout",
     "output_type": "stream",
     "text": [
      "64\n",
      "['airplane', 'apple', 'backpack', 'bagel', 'ball', 'balloon', 'basket', 'bed', 'bell', 'bench', 'bike', 'bird', 'bottle', 'bowl', 'broom', 'bucket', 'butterfly', 'button', 'cake', 'camera', 'cat', 'chair', 'cheese', 'clock', 'coin', 'cookie', 'crib', 'desk', 'dog', 'fan', 'guitar', 'hairbrush', 'hat', 'jacket', 'juice', 'kayak', 'key', 'knife', 'leaves', 'microwave', 'necklace', 'pants', 'pen', 'phone', 'pipe', 'pizza', 'ring', 'rock', 'sandwich', 'scissors', 'shoe', 'socks', 'sofa', 'spoon', 'stamp', 'stool', 'toothpaste', 'train', 'tree', 'tricycle', 'turtle', 'tv', 'umbrella', 'watch']\n"
     ]
    }
   ],
   "source": [
    "import pandas as pd\n",
    "from utils.baby_vocab_filter import load_baby_vocab, vocab_class_filter \n",
    "\n",
    "df = pd.read_excel('/home/Dataset/xueyi/KonkLab/17-objects/MM2-Ranks.xls')\n",
    "class_names = df['Category'].tolist()\n",
    "\n",
    "vocab_set = set(load_baby_vocab())\n",
    "\n",
    "filtered_classes = vocab_class_filter(class_names, vocab_set, match_type='full')\n",
    "print(len(filtered_classes))\n",
    "print(filtered_classes)"
   ]
  },
  {
   "cell_type": "markdown",
   "metadata": {},
   "source": [
    "## Vocab Filter Test\n",
    "partiall\n",
    "full"
   ]
  },
  {
   "cell_type": "code",
   "execution_count": 3,
   "metadata": {},
   "outputs": [
    {
     "name": "stdout",
     "output_type": "stream",
     "text": [
      "{'blue+whale'}\n"
     ]
    }
   ],
   "source": [
    "import importlib\n",
    "from utils.baby_vocab_filter import load_baby_vocab, vocab_class_filter \n",
    "\n",
    "class_names = [\"siamese cat\", \"blue+whale\", \"toy_poodle\"]\n",
    "vocab_set = set(load_baby_vocab())\n",
    "filtered_classes = vocab_class_filter(class_names, vocab_set, match_type='full')\n",
    "print(filtered_classes)"
   ]
  },
  {
   "cell_type": "markdown",
   "metadata": {},
   "source": [
    "## Test Trial Dataset"
   ]
  },
  {
   "cell_type": "code",
   "execution_count": 3,
   "metadata": {},
   "outputs": [
    {
     "name": "stdout",
     "output_type": "stream",
     "text": [
      "Dataset length: 6400\n",
      "Sample 6399 - Label: watch\n",
      "Sample 6399 - Images shape: torch.Size([4, 3, 224, 224])\n"
     ]
    }
   ],
   "source": [
    "import json\n",
    "import torch\n",
    "from torchvision import transforms\n",
    "from datasets.object_dataset import KonkTrialDataset\n",
    "\n",
    "# 定义变换\n",
    "transform = transforms.Compose([\n",
    "    transforms.Resize((224, 224), interpolation=transforms.InterpolationMode.BICUBIC),\n",
    "    transforms.ToTensor(),\n",
    "    transforms.Normalize([0.485, 0.456, 0.406], [0.229, 0.224, 0.225])\n",
    "])\n",
    "\n",
    "# 创建数据集实例\n",
    "dataset = KonkTrialDataset(trials_file='datasets/trials/object_trials_42.json', transform=transform)\n",
    "\n",
    "# 检查数据集长度\n",
    "print(f'Dataset length: {len(dataset)}')\n",
    "\n",
    "# 获取一个样本\n",
    "sample_idx = 6399\n",
    "imgs, label = dataset[sample_idx]\n",
    "\n",
    "# 检查样本内容\n",
    "print(f'Sample {sample_idx} - Label: {label}')\n",
    "print(f'Sample {sample_idx} - Images shape: {imgs.shape}')\n",
    "\n",
    "# 检查图像是否为张量\n",
    "assert isinstance(imgs, torch.Tensor), \"Images should be a tensor\"\n",
    "# 检查图像的形状是否正确\n",
    "assert imgs.shape == (4, 3, 224, 224), f\"Expected image shape (4, 3, 224, 224), but got {imgs.shape}\""
   ]
  },
  {
   "cell_type": "code",
   "execution_count": null,
   "metadata": {},
   "outputs": [],
   "source": []
  }
 ],
 "metadata": {
  "kernelspec": {
   "display_name": "cvcl",
   "language": "python",
   "name": "python3"
  },
  "language_info": {
   "codemirror_mode": {
    "name": "ipython",
    "version": 3
   },
   "file_extension": ".py",
   "mimetype": "text/x-python",
   "name": "python",
   "nbconvert_exporter": "python",
   "pygments_lexer": "ipython3",
   "version": "3.8.19"
  }
 },
 "nbformat": 4,
 "nbformat_minor": 2
}
