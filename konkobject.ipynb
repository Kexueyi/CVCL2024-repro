{
 "cells": [
  {
   "cell_type": "markdown",
   "metadata": {},
   "source": [
    "17-object, Massive Memory is the correspodning eval dataset in science paper.\n",
    "64 classes after baby filter."
   ]
  },
  {
   "cell_type": "code",
   "execution_count": 5,
   "metadata": {},
   "outputs": [
    {
     "name": "stdout",
     "output_type": "stream",
     "text": [
      "64\n",
      "['clock', 'ball', 'dog', 'bucket', 'camera', 'pants', 'sofa', 'leaves', 'necklace', 'pizza', 'crib', 'sandwich', 'tree', 'train', 'scissors', 'guitar', 'spoon', 'backpack', 'kayak', 'ring', 'umbrella', 'cheese', 'cat', 'tricycle', 'bird', 'button', 'desk', 'bench', 'butterfly', 'cookie', 'bottle', 'bell', 'coin', 'apple', 'rock', 'stamp', 'bagel', 'tv', 'juice', 'toothpaste', 'pen', 'turtle', 'phone', 'bed', 'socks', 'jacket', 'pipe', 'fan', 'balloon', 'shoe', 'broom', 'key', 'hairbrush', 'airplane', 'stool', 'cake', 'chair', 'hat', 'microwave', 'basket', 'bowl', 'bike', 'knife', 'watch']\n"
     ]
    }
   ],
   "source": [
    "import pandas as pd\n",
    "import json\n",
    "\n",
    "df = pd.read_excel('/home/Dataset/xueyi/KonkLab/17-objects/MM2-Ranks.xls')\n",
    "class_name = df['Category'].tolist()\n",
    "\n",
    "with open(\"multimodal/vocab.json\", 'r') as f:\n",
    "    baby_vocab = list(json.load(f).keys())\n",
    "\n",
    "baby_class = list(set(class_name) & set(baby_vocab))\n",
    "print(len(baby_class))\n",
    "print(baby_class)"
   ]
  },
  {
   "cell_type": "markdown",
   "metadata": {},
   "source": [
    "## Vocab Filter Test\n",
    "partiall\n",
    "full"
   ]
  },
  {
   "cell_type": "code",
   "execution_count": 3,
   "metadata": {},
   "outputs": [
    {
     "name": "stdout",
     "output_type": "stream",
     "text": [
      "{'blue+whale'}\n"
     ]
    }
   ],
   "source": [
    "import importlib\n",
    "from utils import baby_vocab_filter as filter\n",
    "importlib.reload(filter)\n",
    "\n",
    "class_names = [\"siamese cat\", \"blue+whale\", \"toy_poodle\"]\n",
    "vocab_set = set(filter.load_baby_vocab())\n",
    "filtered_classes = filter.vocab_class_filter(class_names, vocab_set)\n",
    "print(filtered_classes)"
   ]
  }
 ],
 "metadata": {
  "kernelspec": {
   "display_name": "cvcl",
   "language": "python",
   "name": "python3"
  },
  "language_info": {
   "codemirror_mode": {
    "name": "ipython",
    "version": 3
   },
   "file_extension": ".py",
   "mimetype": "text/x-python",
   "name": "python",
   "nbconvert_exporter": "python",
   "pygments_lexer": "ipython3",
   "version": "3.8.19"
  }
 },
 "nbformat": 4,
 "nbformat_minor": 2
}
