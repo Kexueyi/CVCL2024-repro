{
 "cells": [
  {
   "cell_type": "code",
   "execution_count": null,
   "metadata": {},
   "outputs": [],
   "source": [
    "import os\n",
    "#virtually move to parent directory\n",
    "os.chdir(\"..\")\n",
    "\n",
    "import pandas as pd\n",
    "\n",
    "# Load and sort the CSV files\n",
    "tally_0 = pd.read_csv('tally_0.csv').sort_values('unit')\n",
    "tally_1 = pd.read_csv('tally_1.csv').sort_values('unit')\n",
    "tally_2 = pd.read_csv('tally_2.csv').sort_values('unit')\n",
    "tally_3 = pd.read_csv('tally_3.csv').sort_values('unit')\n",
    "\n",
    "# Convert 'unit' from 1-based to 0-based index by subtracting 1\n",
    "tally_0['unit'] -= 1\n",
    "tally_1['unit'] -= 1\n",
    "tally_2['unit'] -= 1\n",
    "tally_3['unit'] -= 1\n",
    "\n",
    "# Insert a 'layer' column at the first position\n",
    "tally_0.insert(0, 'layer', 'layer1')\n",
    "tally_1.insert(0, 'layer', 'layer2')\n",
    "tally_2.insert(0, 'layer', 'layer3')\n",
    "tally_3.insert(0, 'layer', 'layer4')\n",
    "\n",
    "# Concatenate all DataFrames into one\n",
    "tally_combined = pd.concat([tally_0, tally_1, tally_2, tally_3], ignore_index=True)\n",
    "\n",
    "# Save the combined DataFrame to a new CSV file\n",
    "tally_combined.to_csv('netdis_005.csv', index=False)"
   ]
  },
  {
   "cell_type": "code",
   "execution_count": 7,
   "metadata": {},
   "outputs": [],
   "source": [
    "path = 'neuron_concept/cvcl_broden_broden.csv'\n",
    "\n",
    "clipdis = pd.read_csv(path).sort_values('unit')\n",
    "\n",
    "clipdis['layer'] = clipdis['layer'].str.replace('vision_encoder.model.', '', regex=False)\n",
    "\n",
    "clipdis.sort_values(by=['layer', 'unit'], inplace=True)\n",
    "\n",
    "clipdis.to_csv(path, index=False)"
   ]
  }
 ],
 "metadata": {
  "kernelspec": {
   "display_name": "cvcl",
   "language": "python",
   "name": "python3"
  },
  "language_info": {
   "codemirror_mode": {
    "name": "ipython",
    "version": 3
   },
   "file_extension": ".py",
   "mimetype": "text/x-python",
   "name": "python",
   "nbconvert_exporter": "python",
   "pygments_lexer": "ipython3",
   "version": "3.8.19"
  }
 },
 "nbformat": 4,
 "nbformat_minor": 2
}
