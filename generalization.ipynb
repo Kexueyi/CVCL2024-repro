{
 "cells": [
  {
   "cell_type": "markdown",
   "metadata": {},
   "source": [
    "### Enhance Model Explainability with Adversarial Examples\n",
    "\n",
    "This is under an assumption that the concepts generated from current 'dissect' methods are domian-invariant.\n",
    "\n",
    "If we have a image of zebra with concept {black, white, stripes, animal}, we can generate adversarial examples of fake zebra with concept {black, green, stripes, animal}.(replace one conpect with another concept)\n",
    "\n",
    "And this generated picture is out-of-domain, we can constrain our model keep detecting oringinal concept as high-activated."
   ]
  },
  {
   "cell_type": "code",
   "execution_count": null,
   "metadata": {},
   "outputs": [],
   "source": []
  }
 ],
 "metadata": {
  "language_info": {
   "name": "python"
  }
 },
 "nbformat": 4,
 "nbformat_minor": 2
}
